{
 "cells": [
  {
   "cell_type": "markdown",
   "metadata": {},
   "source": [
    "# A GeoJSON geometry class with descriptors\n",
    "\n",
    "I've recently discovered the\n",
    "[descriptor protocol](https://docs.python.org/3/howto/descriptor.html)\n",
    "in Python and am in love. I'm interested in descriptors as a way to encode\n",
    "invariants in classes to capture state that must always remain within\n",
    "particular bounds. At a high-level, descriptors are a way to write flexible\n",
    "and reusable getters and setters for class attributes. I'll gloss over the finer\n",
    "details of descriptors and propose some interesting descriptor recipes but I've\n",
    "found these guides particularly excellent for understanding the why and how\n",
    "\n",
    "- [Chris Beaumont's Python Descriptors Demystified](https://nbviewer.jupyter.org/urls/gist.github.com/ChrisBeaumont/5758381/raw/descriptor_writeup.ipynb)\n",
    "- [Real Python's Python Descriptors: An Introduction](https://realpython.com/python-descriptors/)\n",
    "- [Fluent Python's](https://www.amazon.com/Fluent-Python-Concise-Effective-Programming/dp/1491946008)\n",
    "_Chapter 19. Dynamic Attributes_ and _Chapter 20. Properties and Attribute Descriptors_"
   ]
  },
  {
   "cell_type": "markdown",
   "metadata": {},
   "source": [
    "I'll create a simplified\n",
    "[GeoJSON geometry](https://en.wikipedia.org/wiki/GeoJSON#Geometries) class as\n",
    "a motivating example but with descriptors that could be more generally\n",
    "applied to other classes."
   ]
  },
  {
   "cell_type": "markdown",
   "metadata": {},
   "source": [
    "## GeoJSON geometry\n",
    "\n",
    "GeoJSON geometry is a simple dictionary with the keys `type` and `coordinates`.\n",
    "For the sake of simplicity we'll use just use the types\n",
    "\n",
    "- Point\n",
    "- LineString\n",
    "- MultiPoint\n",
    "\n",
    "GeoJSON also uses a `(longitude, latitude)` convention for coordinates. We'll\n",
    "look at how to create a class that only allows valid types and coordinates.\n",
    "\n",
    "First, let's look at a class that holds a `type` and `coordinates` attribute\n",
    "but does not do any validation on what they hold"
   ]
  },
  {
   "cell_type": "code",
   "execution_count": 14,
   "metadata": {},
   "outputs": [],
   "source": [
    "class GeoJSONGeometry:\n",
    "\n",
    "    def __init__(self, geo_type, coordinates):\n",
    "        self.geo_type = geo_type\n",
    "        self.coordinates = coordinates"
   ]
  },
  {
   "cell_type": "markdown",
   "metadata": {},
   "source": [
    "A valid use of the attributes might look like"
   ]
  },
  {
   "cell_type": "code",
   "execution_count": 15,
   "metadata": {},
   "outputs": [],
   "source": [
    "honolulu = GeoJSONGeometry(geo_type=\"Point\", coordinates=[-157.855, 21.313])"
   ]
  },
  {
   "cell_type": "markdown",
   "metadata": {},
   "source": [
    "With a class like this, it would be easy to mistakenly assign something\n",
    "like a bad set of coordinates (say you have the order of\n",
    "latitude and longitude mixed up)."
   ]
  },
  {
   "cell_type": "code",
   "execution_count": 16,
   "metadata": {},
   "outputs": [],
   "source": [
    "honolulu.coordiantes = [21.313, -157.855]"
   ]
  },
  {
   "cell_type": "markdown",
   "metadata": {},
   "source": [
    "Ideally, our class would've objected to a latitude value outside of the valid\n",
    "range. Here's where descriptors come into play. We know when writing our\n",
    "class, we only want `geo_type` to be Point, LineString, or MultiPoint. We\n",
    "also know that our coordinates should be a valid `(longitude, latitude)`. In\n",
    "the case of the Point type, we should have have a single coordinate and\n",
    "for LineString and MultiPoint types we should have a list of coordinates."
   ]
  },
  {
   "cell_type": "code",
   "execution_count": null,
   "metadata": {},
   "outputs": [],
   "source": [
    "class ValidStringDescriptor:\n",
    "    \n",
    "    "
   ]
  },
  {
   "cell_type": "code",
   "execution_count": 5,
   "metadata": {},
   "outputs": [],
   "source": [
    "from enum import IntEnum\n",
    "\n",
    "class GeoJSONGeometryType(IntEnum):\n",
    "\n",
    "    Point = 0\n",
    "    LineString = 1\n",
    "    MultiPoint = 2"
   ]
  },
  {
   "cell_type": "markdown",
   "metadata": {},
   "source": [
    "Note that it's possible to iterate over the IntEnum class."
   ]
  },
  {
   "cell_type": "code",
   "execution_count": null,
   "metadata": {},
   "outputs": [],
   "source": []
  }
 ],
 "metadata": {
  "kernelspec": {
   "display_name": "Python 3",
   "language": "python",
   "name": "python3"
  },
  "language_info": {
   "codemirror_mode": {
    "name": "ipython",
    "version": 3
   },
   "file_extension": ".py",
   "mimetype": "text/x-python",
   "name": "python",
   "nbconvert_exporter": "python",
   "pygments_lexer": "ipython3",
   "version": "3.7.5"
  }
 },
 "nbformat": 4,
 "nbformat_minor": 4
}
