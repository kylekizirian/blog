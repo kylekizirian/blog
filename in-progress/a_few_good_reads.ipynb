{
 "cells": [
  {
   "cell_type": "markdown",
   "metadata": {},
   "source": [
    "# A few good reads\n",
    "\n",
    "A few of my absolute favorite reads on the practice of programming. I\n",
    "find myself coming back to these repeatedly and getting something new\n",
    "out of them every time\n",
    "\n",
    "- Allison Kapture on [Effective Learning Strategies for Programmers](http://akaptur.com/blog/2015/10/10/effective-learning-strategies-for-programmers/)\n",
    "- Steve Yegge on [Practicing Programming](https://sites.google.com/site/steveyegge2/practicing-programming)\n",
    "- David MacIver on [Some things that might help you write better software](https://www.drmaciver.com/2016/10/some-things-that-might-help-you-write-better-software/)\n",
    "- Jeff Atwood [On the Meaning of Coding Horror](https://blog.codinghorror.com/on-the-meaning-of-coding-horror/) and [Why I'm the Best Programmer in the World](https://blog.codinghorror.com/why-im-the-best-programmer-in-the-world/)\n",
    "\n",
    "And two bonus favorites, not purely about programming but remarkable reads\n",
    "\n",
    "- Paul Graham on\n",
    "[What You'll Wish You'd Known](http://www.paulgraham.com/hs.html) and\n",
    "[Being a Noob](http://paulgraham.com/noob.html)"
   ]
  }
 ],
 "metadata": {
  "kernelspec": {
   "display_name": "Python 3",
   "language": "python",
   "name": "python3"
  },
  "language_info": {
   "codemirror_mode": {
    "name": "ipython",
    "version": 3
   },
   "file_extension": ".py",
   "mimetype": "text/x-python",
   "name": "python",
   "nbconvert_exporter": "python",
   "pygments_lexer": "ipython3",
   "version": "3.7.5"
  }
 },
 "nbformat": 4,
 "nbformat_minor": 4
}
