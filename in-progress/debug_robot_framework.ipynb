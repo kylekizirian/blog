{
 "cells": [
  {
   "cell_type": "markdown",
   "metadata": {},
   "source": [
    "# Debugging Custom Robot Framework Libraries\n",
    "\n",
    "I'm a huge fan of [Robot Framework](https://robotframework.org/) and I've been developing custom libraries for a while now. I'm slightly embarassed to admit that my primary method of debugging has been with [robot.api.logger](https://robot-framework.readthedocs.io/en/3.0/autodoc/robot.api.html#module-robot.api.logger) statements sprinkled into problematic code. But I've recently found two significantly better ways to shake out bugs, with VS Code and pdb."
   ]
  },
  {
   "cell_type": "markdown",
   "metadata": {},
   "source": [
    "## VS Code\n",
    "\n",
    "I started using VS Code's debugger first. The only extra step involved is to create a python script that will run the test. Here's an example script:\n",
    "\n",
    "```python\n",
    "from pathlib import Path\n",
    "\n",
    "import robot\n",
    "\n",
    "if __name__ == \"__main__\":\n",
    "    robot_test = Path(\"/path/to/test_cases/test.robot\")\n",
    "    robot.run(str(robot_test))\n",
    "```\n",
    "\n",
    "Simply open this up in VS Code, set breakpoints, and run. See the [Debugging in VS Code documentation](https://code.visualstudio.com/docs/editor/debugging) for all of the debugger's powerful features."
   ]
  },
  {
   "cell_type": "markdown",
   "metadata": {},
   "source": [
    "## pdb\n",
    "\n",
    "I'd been afraid of [pdb](https://docs.python.org/3/library/pdb.html) for too long. Having gotten comfortable with VS Code's debugger first, the idea of a command line debugger was intimidating. This fear was unfounded though and I wish that I'd learned pdb earlier, it's actually quite easy and makes it even faster to jump right into the code because it doesn't require creating a separate script like VS Code.\n",
    "\n",
    "Simply insert this statement (taken from the [Robot Framework User Guide](http://robotframework.org/robotframework/latest/RobotFrameworkUserGuide.html#using-the-python-debugger-pdb)) where you want to break:\n",
    "\n",
    "```python\n",
    "import sys, pdb; pdb.Pdb(stdout=sys.__stdout__).set_trace()\n",
    "```\n",
    "\n",
    "Just run the test as normal and python will break when the above line is hit. I used Real Python's [Getting Started with pdb](https://realpython.com/lessons/getting-started-pdb/) and [Python Debugging with pdb](https://realpython.com/python-debugging-pdb/) to learn pdb and was comfortable within 30 minutes.\n",
    "\n",
    "I've yet to figure out how to use [Python 3.7's built-in breakpoint()](https://www.python.org/dev/peps/pep-0553/) for this since Robot Framework re-directs stdout, but that would be even simpler and more convenient."
   ]
  }
 ],
 "metadata": {
  "kernelspec": {
   "display_name": "Python [conda env:web] *",
   "language": "python",
   "name": "conda-env-web-py"
  },
  "language_info": {
   "codemirror_mode": {
    "name": "ipython",
    "version": 3
   },
   "file_extension": ".py",
   "mimetype": "text/x-python",
   "name": "python",
   "nbconvert_exporter": "python",
   "pygments_lexer": "ipython3",
   "version": "3.7.5"
  }
 },
 "nbformat": 4,
 "nbformat_minor": 4
}
