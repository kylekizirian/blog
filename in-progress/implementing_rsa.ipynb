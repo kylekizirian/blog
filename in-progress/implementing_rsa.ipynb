{
 "cells": [
  {
   "cell_type": "markdown",
   "metadata": {},
   "source": [
    "> What I cannot create, I do not understand.  \n",
    "> \\- Richard Feynman\n",
    "\n",
    "I've probably learned RSA at least five times and yet I'd struggle to\n",
    "come up with many of the details on the spot. I could tell you that it\n",
    "has to do with primes and the difficulty in factoring large numbers,\n",
    "but that's about as far as I'd get.\n",
    "\n",
    "In an effort to actually understand and appreciate the algorithm, I\n",
    "wanted to implement it myself. The result is a comically primitive\n",
    "implementation and a security person's nightmare. Still, it\n",
    "was a fun exercise and it turned out to be vastly more interesting\n",
    "and full of surprises than I'd expected."
   ]
  },
  {
   "cell_type": "code",
   "execution_count": null,
   "metadata": {},
   "outputs": [],
   "source": [
    "from random import randint\n",
    "\n",
    "def random_n_bit_int(n: int) -> int:\n",
    "    \"\"\"Returns a random integer of n bits\"\"\"\n",
    "    return randint(2**(n-1), (2**n)-1)"
   ]
  },
  {
   "cell_type": "code",
   "execution_count": 2,
   "metadata": {},
   "outputs": [],
   "source": [
    "def is_prime(n: int, k: int = 20) -> bool:\n",
    "    \"\"\"Uses Fermat's little theorem\"\"\"\n",
    "    test_vals = [randint(1, n-1) for _ in range(k)]\n",
    "    return all(((a**(n-1) % n) == 1) for a in test_vals)"
   ]
  },
  {
   "cell_type": "code",
   "execution_count": 3,
   "metadata": {},
   "outputs": [],
   "source": [
    "def random_n_bit_prime(n: int) -> int:\n",
    "    \"\"\"Generates a random prime number of length n bits\"\"\"\n",
    "    rand_num = random_n_bit_int(n)\n",
    "    while not is_prime(rand_num):\n",
    "        rand_num = random_n_bit_int(n)\n",
    "\n",
    "    return rand_num"
   ]
  },
  {
   "cell_type": "code",
   "execution_count": 4,
   "metadata": {},
   "outputs": [],
   "source": [
    "import math\n",
    "\n",
    "def is_coprime(a: int, b: int) -> bool:\n",
    "    return math.gcd(a, b) == 1"
   ]
  },
  {
   "cell_type": "code",
   "execution_count": 5,
   "metadata": {},
   "outputs": [],
   "source": [
    "import itertools\n",
    "\n",
    "def find_coprime(n: int) -> int:\n",
    "    \"\"\"Returns first odd number coprime with n\"\"\"\n",
    "    for odd_num in itertools.count(3, 2):\n",
    "        if is_coprime(odd_num, n):\n",
    "            return odd_num"
   ]
  },
  {
   "cell_type": "code",
   "execution_count": 6,
   "metadata": {},
   "outputs": [],
   "source": [
    "from typing import Tuple\n",
    "\n",
    "def extended_euclid(a: int, b: int) -> Tuple[int, int, int]:\n",
    "    \"\"\"Returns x, y, d such that a*x + b*y = d\"\"\"\n",
    "    if b == 0:\n",
    "        return (1, 0, a)\n",
    "\n",
    "    a_over_b, a_mod_b = divmod(a, b)\n",
    "    x, y, d = extended_euclid(b, a_mod_b)\n",
    "    return (y, x - (a_over_b*y), d)\n",
    "\n",
    "def compute_modular_inverse(a: int, p: int) -> int:\n",
    "    \"\"\"Computes a^1 mod p == 1 using extended euclid method\"\"\"\n",
    "    x, y, _ = extended_euclid(a, p)\n",
    "    return x % p"
   ]
  },
  {
   "cell_type": "code",
   "execution_count": 7,
   "metadata": {},
   "outputs": [],
   "source": [
    "from collections import namedtuple\n",
    "\n",
    "PublicKey = namedtuple(\"PublicKey\", [\"n\", \"e\"])"
   ]
  },
  {
   "cell_type": "code",
   "execution_count": 8,
   "metadata": {},
   "outputs": [],
   "source": [
    "class User:\n",
    "\n",
    "    def __init__(self, name: str):\n",
    "        self.name = name\n",
    "        p, q = random_n_bit_prime(8), random_n_bit_prime(8)\n",
    "        n = p*q\n",
    "        phi_n = (p-1) * (q-1)\n",
    "        e = find_coprime(phi_n)\n",
    "        self._private_key = compute_modular_inverse(e, phi_n)\n",
    "        self.public_key = PublicKey(n, e)\n",
    "\n",
    "    def _find_secret_key(self, e, phi_n) -> int:\n",
    "        for odd_num in itertools.count(3, 1):\n",
    "            if (odd_num*e) % phi_n == 1:\n",
    "                return odd_num\n",
    "\n",
    "    def send_message(self, user, message: int) -> int:\n",
    "        \"\"\"Send a message to other user\"\"\"\n",
    "        print(f\"{self.name} sending secret message {message}\")\n",
    "        encrypted_msg = (message**user.public_key.e) % user.public_key.n\n",
    "        print(f\"{self.name} sending encrypted message: {encrypted_msg}\")\n",
    "        user.receive_message(encrypted_msg)\n",
    "\n",
    "    def receive_message(self, encrypted_msg: int):\n",
    "        \"\"\"Receive encrypted message\"\"\"\n",
    "        print(f\"{self.name} received encrypted message: {encrypted_msg}\")\n",
    "        decrypted_msg = (encrypted_msg**self._private_key) % self.public_key.n\n",
    "        print(f\"{self.name} decrypted message: {decrypted_msg}\")"
   ]
  },
  {
   "cell_type": "code",
   "execution_count": 9,
   "metadata": {},
   "outputs": [],
   "source": [
    "Alice = User(\"Alice\")\n",
    "Bob = User(\"Bob\")"
   ]
  },
  {
   "cell_type": "code",
   "execution_count": 10,
   "metadata": {},
   "outputs": [
    {
     "name": "stdout",
     "output_type": "stream",
     "text": [
      "Alice sending secret message 42\n",
      "Alice sending encrypted message: 5656\n",
      "Bob received encrypted message: 5656\n",
      "Bob decrypted message: 42\n"
     ]
    }
   ],
   "source": [
    "Alice.send_message(Bob, 42)"
   ]
  }
 ],
 "metadata": {
  "kernelspec": {
   "display_name": "Python 3",
   "language": "python",
   "name": "python3"
  },
  "language_info": {
   "codemirror_mode": {
    "name": "ipython",
    "version": 3
   },
   "file_extension": ".py",
   "mimetype": "text/x-python",
   "name": "python",
   "nbconvert_exporter": "python",
   "pygments_lexer": "ipython3",
   "version": "3.7.5"
  }
 },
 "nbformat": 4,
 "nbformat_minor": 4
}
