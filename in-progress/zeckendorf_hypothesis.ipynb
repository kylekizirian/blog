{
 "cells": [
  {
   "cell_type": "markdown",
   "metadata": {},
   "source": [
    "# Zeckendorf's theorem and property based testing\n",
    "\n",
    ">Beware of bugs in the above code; I have only proved it correct, not tried it.\n",
    ">\n",
    "> \\- Donald Knuth\n",
    "\n",
    "Reading [Donald Knuth's Concrete Mathematics](https://www.amazon.com/Concrete-Mathematics-Foundation-Computer-Science/dp/0201558025), I was delighted to learn about the wonderfully named [Zeckendorf's Theorem](https://en.wikipedia.org/wiki/Zeckendorf%27s_theorem). From Wikipedia, Zeckendorf's Theorem states\n",
    "\n",
    ">Every positive integer can be represented uniquely as the sum of one or more Fibonacci numbers in such a way that the sum does not include any two consecutive Fibonacci numbers."
   ]
  },
  {
   "cell_type": "markdown",
   "metadata": {},
   "source": [
    "## Finding a number's Zeckendorf representation\n",
    "\n",
    "A number $N$'s _Zeckendorf representation_ is the list of unique Fibonacci numbers that sum to $N$. The Zeckendorf representation of $N$ can be obtained by always selecting the largest Fibonacci number, $f$, less than or equal to $N$, decrementing $N$ by $f$, and continuing until $N = 0$.\n",
    "\n",
    "The approach can be broken down into three pieces\n",
    "\n",
    "1. Generating a list of Fibonacci numbers up to $N$\n",
    "2. Getting the largest Fibonacci number less than or equal to $N$\n",
    "3. Decrementing $N$ by the Fibonacci number from (2) and repeating until $N = 0$"
   ]
  },
  {
   "cell_type": "markdown",
   "metadata": {},
   "source": [
    "## Generating Fibonacci numbers\n",
    "\n",
    "The easy part, start with $f_{0} = 0$ and $f_{1} = 1$ and continue to\n",
    "generate $f_{n} = f_{n-1} + f_{n-2}$ while $f_{n} < N$."
   ]
  },
  {
   "cell_type": "code",
   "execution_count": 1,
   "metadata": {},
   "outputs": [],
   "source": [
    "from typing import List\n",
    "\n",
    "def fibonacci_numbers_up_to(num: int) -> List[int]:\n",
    "    \"\"\"Returns a sorted list of fibonacci numbers up to a given number\"\"\"\n",
    "    fibonacci_nums = [0, 1]\n",
    "    next_fibonacci = fibonacci_nums[-2] + fibonacci_nums[-1]\n",
    "    while next_fibonacci < num:\n",
    "        fibonacci_nums.append(next_fibonacci)\n",
    "        next_fibonacci = fibonacci_nums[-2] + fibonacci_nums[-1]\n",
    "\n",
    "    return fibonacci_nums\n",
    "\n",
    "assert fibonacci_numbers_up_to(6) == [0, 1, 1, 2, 3, 5]\n",
    "assert fibonacci_numbers_up_to(13) == [0, 1, 1, 2, 3, 5, 8]"
   ]
  },
  {
   "cell_type": "markdown",
   "metadata": {},
   "source": [
    "## Getting the largest element less than or equal to $N$\n",
    "\n",
    "Step (2) from above. While not the most efficient, a simple way to\n",
    "find the largest element in a list less than or equal to a given\n",
    "number $N$ is to sort the list from largest to smallest and iterate over\n",
    "it until the first number less than or equal to $N$ is found."
   ]
  },
  {
   "cell_type": "code",
   "execution_count": 2,
   "metadata": {},
   "outputs": [],
   "source": [
    "def largest_element_lte(list_: List[float], num: int) -> int:\n",
    "    \"\"\"Returns the largest element in a list less than or equal to given number\n",
    "\n",
    "    Raises ValueError if no elements in the list are less than or equal\n",
    "    \"\"\"\n",
    "    for element in sorted(list_, reverse=True):\n",
    "        if element <= num:\n",
    "            return element\n",
    "    else:\n",
    "        raise ValueError(f\"No element found less than or equal to {num}\")\n",
    "\n",
    "fibonaccis_up_to_twenty = fibonacci_numbers_up_to(20)\n",
    "assert largest_element_lte(fibonaccis_up_to_twenty, 6) == 5\n",
    "assert largest_element_lte(fibonaccis_up_to_twenty, 13) == 13"
   ]
  },
  {
   "cell_type": "markdown",
   "metadata": {},
   "source": [
    "## Finding the Zeckendorf representation\n",
    "\n",
    "Putting together the three steps from above, build up a list\n",
    "of the next Fibonacci numbers that sum to $N$."
   ]
  },
  {
   "cell_type": "code",
   "execution_count": 3,
   "metadata": {},
   "outputs": [],
   "source": [
    "def zeckendorf_representation(num: int) -> List[int]:\n",
    "    \"\"\"Returns a sorted list of fibonacci numbers that sum to a given number\"\"\"\n",
    "    if num < 1:\n",
    "        raise ValueError(\"Only positive integers have a Zeckendorf representation\")\n",
    "\n",
    "    fibonaccis = fibonacci_numbers_up_to(num)\n",
    "\n",
    "    zeckendorf_numbers = []\n",
    "    while num > 0:\n",
    "        next_zeckendorf = largest_element_lte(fibonaccis, num)\n",
    "        zeckendorf_numbers.append(next_zeckendorf)\n",
    "        num -= next_zeckendorf\n",
    "\n",
    "    return list(reversed(zeckendorf_numbers))"
   ]
  },
  {
   "cell_type": "markdown",
   "metadata": {},
   "source": [
    "## Testing the implementation\n",
    "\n",
    "There's a subtle bug in the above implementation that would pass by\n",
    "all but the most astute reviewers. In code bases without good unit\n",
    "tests, it would be very easy for this pass peer-review with the bug\n",
    "unnoticed.\n",
    "\n",
    "It would also be easy to write some unit tests (albeit not great ones)\n",
    "that would fail to catch the bug. Indeed, having some unit tests could make\n",
    "a peer-reviewer even less likely to notice the issue as the tests might give\n",
    "a false sense of correctness.\n",
    "\n",
    "Here are three simple unit tests that make the implementation appear\n",
    "correct"
   ]
  },
  {
   "cell_type": "code",
   "execution_count": 4,
   "metadata": {},
   "outputs": [],
   "source": [
    "assert sum(zeckendorf_representation(100)) == 100\n",
    "assert zeckendorf_representation(64) == [1, 8, 55]\n",
    "assert zeckendorf_representation(20) == [2, 5, 13]"
   ]
  },
  {
   "cell_type": "markdown",
   "metadata": {},
   "source": [
    "A careful reviewer should be able to see an important case that's\n",
    "missing from the testing above, but it is also easy to see how\n",
    "the cases make the implementation look correct at first glance.\n",
    "\n",
    "The case that is not checked is finding the Zeckendorf\n",
    "represenation of a Fibonacci number. Its Zeckendorf\n",
    "representation should simply be itself. The cases below may\n",
    "not look obviously incorrect but the second case is wrong as\n",
    "the theorem states that the sum should not include any two\n",
    "consecutive Fibonacci numbers, and 5 and 8 are consecutive\n",
    "Fibonaccis."
   ]
  },
  {
   "cell_type": "code",
   "execution_count": 5,
   "metadata": {},
   "outputs": [],
   "source": [
    "assert sum(zeckendorf_representation(13)) == 13\n",
    "assert zeckendorf_representation(13) == [5, 8]"
   ]
  },
  {
   "cell_type": "markdown",
   "metadata": {},
   "source": [
    "The bug exists in generating the list of Fibonacci numbers up to $N$\n",
    "when in fact we need the list of Fibonacci numbers up to and including\n",
    "$N$ (or up to $N+1$).\n",
    "\n",
    "I've built up to this to bring up a much better way of testing this\n",
    "function. Rather than manually coming up with a few cases to check,\n",
    "we can use [Hypothesis](https://hypothesis.readthedocs.io/en/latest/)\n",
    "to generate test cases for us.\n",
    "\n",
    "Hypothesis is a Python implementation of property-based testing which\n",
    "allows us to describe the inputs to our function and the properties\n",
    "that our function must always satisfy. Hypothesis will then generate\n",
    "a huge number of test cases of various inputs and check that our\n",
    "properties always hold.\n",
    "\n",
    "The input to our `zeckendorf_representation` is just a single postive\n",
    "integer. We'll describe this for Hypothesis and let it come up with\n",
    "a bunch of positive integers to run through our implementation.\n",
    "\n",
    "Our function should satisfy two properties which come directly from\n",
    "Zeckendorf's Theorem\n",
    "1. The Zeckendorf representation of $N$ must sum to $N$\n",
    "2. The Zeckendorf representation should not contain consecutive\n",
    "Fibonacci numbers\n",
    "\n",
    "Property (1) is easy to test, simply check that the sum of the return\n",
    "value is equal to the number that we put in.\n",
    "\n",
    "Testing property (2) is slightly more involved, but if we have a list\n",
    "of Fibonacci numbers then we can check that all numbers in the returned\n",
    "Zeckendorf representation are at least two indices apart in the Fibonacci\n",
    "list."
   ]
  },
  {
   "cell_type": "code",
   "execution_count": 6,
   "metadata": {},
   "outputs": [
    {
     "name": "stdout",
     "output_type": "stream",
     "text": [
      "Falsifying example: test_zeckendorf_representation(\n",
      "    num=5,\n",
      ")\n"
     ]
    },
    {
     "ename": "AssertionError",
     "evalue": "",
     "output_type": "error",
     "traceback": [
      "\u001b[0;31m---------------------------------------------------------------------------\u001b[0m",
      "\u001b[0;31mAssertionError\u001b[0m                            Traceback (most recent call last)",
      "\u001b[0;32m<ipython-input-6-287cfc9a2439>\u001b[0m in \u001b[0;36m<module>\u001b[0;34m\u001b[0m\n\u001b[1;32m     22\u001b[0m \u001b[0;34m\u001b[0m\u001b[0m\n\u001b[1;32m     23\u001b[0m \u001b[0;34m\u001b[0m\u001b[0m\n\u001b[0;32m---> 24\u001b[0;31m \u001b[0mtest_zeckendorf_representation\u001b[0m\u001b[0;34m(\u001b[0m\u001b[0;34m)\u001b[0m\u001b[0;34m\u001b[0m\u001b[0;34m\u001b[0m\u001b[0m\n\u001b[0m",
      "\u001b[0;32m<ipython-input-6-287cfc9a2439>\u001b[0m in \u001b[0;36mtest_zeckendorf_representation\u001b[0;34m()\u001b[0m\n\u001b[1;32m      2\u001b[0m \u001b[0;34m\u001b[0m\u001b[0m\n\u001b[1;32m      3\u001b[0m \u001b[0;34m@\u001b[0m\u001b[0mgiven\u001b[0m\u001b[0;34m(\u001b[0m\u001b[0mstrategies\u001b[0m\u001b[0;34m.\u001b[0m\u001b[0mintegers\u001b[0m\u001b[0;34m(\u001b[0m\u001b[0mmin_value\u001b[0m\u001b[0;34m=\u001b[0m\u001b[0;36m1\u001b[0m\u001b[0;34m)\u001b[0m\u001b[0;34m)\u001b[0m\u001b[0;34m\u001b[0m\u001b[0;34m\u001b[0m\u001b[0m\n\u001b[0;32m----> 4\u001b[0;31m \u001b[0;32mdef\u001b[0m \u001b[0mtest_zeckendorf_representation\u001b[0m\u001b[0;34m(\u001b[0m\u001b[0mnum\u001b[0m\u001b[0;34m:\u001b[0m \u001b[0mint\u001b[0m\u001b[0;34m)\u001b[0m\u001b[0;34m:\u001b[0m\u001b[0;34m\u001b[0m\u001b[0;34m\u001b[0m\u001b[0m\n\u001b[0m\u001b[1;32m      5\u001b[0m     \"\"\"Tests two properties of Zeckendorf Representation\n\u001b[1;32m      6\u001b[0m \u001b[0;34m\u001b[0m\u001b[0m\n",
      "\u001b[0;32m/usr/local/anaconda3/envs/web/lib/python3.7/site-packages/hypothesis/core.py\u001b[0m in \u001b[0;36mwrapped_test\u001b[0;34m(*arguments, **kwargs)\u001b[0m\n\u001b[1;32m   1078\u001b[0m                         \u001b[0mget_trimmed_traceback\u001b[0m\u001b[0;34m(\u001b[0m\u001b[0;34m)\u001b[0m\u001b[0;34m\u001b[0m\u001b[0;34m\u001b[0m\u001b[0m\n\u001b[1;32m   1079\u001b[0m                     )\n\u001b[0;32m-> 1080\u001b[0;31m                     \u001b[0;32mraise\u001b[0m \u001b[0mthe_error_hypothesis_found\u001b[0m\u001b[0;34m\u001b[0m\u001b[0;34m\u001b[0m\u001b[0m\n\u001b[0m\u001b[1;32m   1081\u001b[0m \u001b[0;34m\u001b[0m\u001b[0m\n\u001b[1;32m   1082\u001b[0m         \u001b[0;31m# After having created the decorated test function, we need to copy\u001b[0m\u001b[0;34m\u001b[0m\u001b[0;34m\u001b[0m\u001b[0;34m\u001b[0m\u001b[0m\n",
      "\u001b[0;32m<ipython-input-6-287cfc9a2439>\u001b[0m in \u001b[0;36mtest_zeckendorf_representation\u001b[0;34m(num)\u001b[0m\n\u001b[1;32m     19\u001b[0m     \u001b[0;31m# check that no two indices are adjacent\u001b[0m\u001b[0;34m\u001b[0m\u001b[0;34m\u001b[0m\u001b[0;34m\u001b[0m\u001b[0m\n\u001b[1;32m     20\u001b[0m     \u001b[0;32mfor\u001b[0m \u001b[0mindex\u001b[0m\u001b[0;34m,\u001b[0m \u001b[0mnext_index\u001b[0m \u001b[0;32min\u001b[0m \u001b[0mzip\u001b[0m\u001b[0;34m(\u001b[0m\u001b[0mindices\u001b[0m\u001b[0;34m,\u001b[0m \u001b[0mindices\u001b[0m\u001b[0;34m[\u001b[0m\u001b[0;36m1\u001b[0m\u001b[0;34m:\u001b[0m\u001b[0;34m]\u001b[0m\u001b[0;34m)\u001b[0m\u001b[0;34m:\u001b[0m\u001b[0;34m\u001b[0m\u001b[0;34m\u001b[0m\u001b[0m\n\u001b[0;32m---> 21\u001b[0;31m         \u001b[0;32massert\u001b[0m \u001b[0mindex\u001b[0m \u001b[0;34m+\u001b[0m \u001b[0;36m1\u001b[0m \u001b[0;34m<\u001b[0m \u001b[0mnext_index\u001b[0m\u001b[0;34m\u001b[0m\u001b[0;34m\u001b[0m\u001b[0m\n\u001b[0m\u001b[1;32m     22\u001b[0m \u001b[0;34m\u001b[0m\u001b[0m\n\u001b[1;32m     23\u001b[0m \u001b[0;34m\u001b[0m\u001b[0m\n",
      "\u001b[0;31mAssertionError\u001b[0m: "
     ]
    }
   ],
   "source": [
    "from hypothesis import given, strategies\n",
    "\n",
    "@given(strategies.integers(min_value=1))\n",
    "def test_zeckendorf_representation(num: int):\n",
    "    \"\"\"Tests two properties of Zeckendorf Representation\n",
    "\n",
    "    They sum up to the given number\n",
    "    The sum does not include any consecutive Fibonacci numbers\n",
    "    \"\"\"\n",
    "    zeckendorf_nums = zeckendorf_representation(num)\n",
    "    assert sum(zeckendorf_nums) == num\n",
    "\n",
    "    fibonacci_nums = fibonacci_numbers_up_to(num+1)\n",
    "    # get the indices \n",
    "    indices = [\n",
    "        fibonacci_nums.index(zeckendorf_num)\n",
    "        for zeckendorf_num in zeckendorf_nums\n",
    "    ]\n",
    "    # check that no two indices are adjacent\n",
    "    for index, next_index in zip(indices, indices[1:]):\n",
    "        assert index + 1 < next_index\n",
    "\n",
    "\n",
    "test_zeckendorf_representation()"
   ]
  },
  {
   "cell_type": "markdown",
   "metadata": {},
   "source": [
    "### Debugging\n",
    "\n",
    "Indeed, Hypothesis quickly found an example at $N=5$ that did not satisfy\n",
    "property (2). Printing out the falsifying example, the issue becomes\n",
    "obvious"
   ]
  },
  {
   "cell_type": "code",
   "execution_count": 7,
   "metadata": {},
   "outputs": [
    {
     "data": {
      "text/plain": [
       "[2, 3]"
      ]
     },
     "execution_count": 7,
     "metadata": {},
     "output_type": "execute_result"
    }
   ],
   "source": [
    "zeckendorf_representation(5)"
   ]
  },
  {
   "cell_type": "markdown",
   "metadata": {},
   "source": [
    "It ought to be that `zeckendorf_representation(5) == [5]`, below\n",
    "is the corrected implementation that uses a list of Fibonacci\n",
    "numbers up to $N+1$"
   ]
  },
  {
   "cell_type": "code",
   "execution_count": 8,
   "metadata": {},
   "outputs": [],
   "source": [
    "def zeckendorf_representation(num: int) -> List[int]:\n",
    "    \"\"\"Returns a sorted list of fibonacci numbers that sum to a given number\"\"\"\n",
    "    if num < 1:\n",
    "        raise ValueError(\"Only positive integers have a Zeckendorf representation\")\n",
    "\n",
    "    fibonaccis = fibonacci_numbers_up_to(num+1)\n",
    "\n",
    "    zeckendorf_numbers = []\n",
    "    while num > 0:\n",
    "        next_zeckendorf = largest_element_lte(fibonaccis, num)\n",
    "        zeckendorf_numbers.append(next_zeckendorf)\n",
    "        num -= next_zeckendorf\n",
    "\n",
    "    return list(reversed(zeckendorf_numbers))"
   ]
  },
  {
   "cell_type": "markdown",
   "metadata": {},
   "source": [
    "Re-running the Hypothesis test shows the issue has been fixed"
   ]
  },
  {
   "cell_type": "code",
   "execution_count": 9,
   "metadata": {},
   "outputs": [],
   "source": [
    "test_zeckendorf_representation()"
   ]
  },
  {
   "cell_type": "markdown",
   "metadata": {},
   "source": [
    "## The role of property-based tests\n",
    "\n",
    "Property-based tests and libraries like Hypothesis and QuickCheck are\n",
    "not replacements for traditional unit tests, but they do deserve a first\n",
    "class role alongside these tests.\n",
    "\n",
    "I've spent several years as a test engineer and as a developer writing\n",
    "automated test software and I've become increasingly convinvced of the\n",
    "difficulty of writing good, thorough tests. I work with brilliant people\n",
    "and recently a trivial bug involving an acceleration value went unnoticed\n",
    "for some time because nobody thought to test a negative acceleration (an\n",
    "important case to test if you live somewhere with gravity).\n",
    "\n",
    "Property-based tests force you to think critically about the\n",
    "space of inputs that your software accepts and libraries like Hypothesis\n",
    "are able to generate tests that cover a much larger range of the input\n",
    "space than is feasible with traditional unit tests."
   ]
  },
  {
   "cell_type": "markdown",
   "metadata": {},
   "source": [
    "## Other resources\n",
    "\n",
    "I was struck by a comment that I came across recently in\n",
    "[Dan Luu's How I learned to program](https://danluu.com/learning-to-program/)\n",
    "\n",
    ">The obvious skill I learned was how to write tests using a fancy testing framework, but the meta-thing I learned which has been even more useful is the fact that writing a test-case generator and a checker is often much more productive than the manual test-case writing that passes for automated testing in most places.\n",
    "\n",
    "In which Dan is talking about IBM's SixthSense, a formal verification\n",
    "tool that generates test cases."
   ]
  }
 ],
 "metadata": {
  "kernelspec": {
   "display_name": "Python 3",
   "language": "python",
   "name": "python3"
  },
  "language_info": {
   "codemirror_mode": {
    "name": "ipython",
    "version": 3
   },
   "file_extension": ".py",
   "mimetype": "text/x-python",
   "name": "python",
   "nbconvert_exporter": "python",
   "pygments_lexer": "ipython3",
   "version": "3.7.5"
  }
 },
 "nbformat": 4,
 "nbformat_minor": 4
}
