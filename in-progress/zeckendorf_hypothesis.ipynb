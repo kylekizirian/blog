{
 "cells": [
  {
   "cell_type": "markdown",
   "metadata": {},
   "source": [
    "# Zeckendorf's Theorem and Property Based Testing\n",
    "\n",
    "Reading [Donald Knuth's Concrete Mathematics](https://www.amazon.com/Concrete-Mathematics-Foundation-Computer-Science/dp/0201558025), I was delighted to learn about the wonderfully named [Zeckendorf's Theorem](https://en.wikipedia.org/wiki/Zeckendorf%27s_theorem). From Wikipedia, Zeckendorf's Theorem states\n",
    "\n",
    ">Every positive integer can be represented uniquely as the sum of one or more Fibonacci numbers in such a way that the sum does not include any two consecutive Fibonacci numbers."
   ]
  },
  {
   "cell_type": "markdown",
   "metadata": {},
   "source": [
    "## An Implementation\n",
    "\n",
    "We'll look at a simple implementation that returns the Zeckendorf representation of a number"
   ]
  },
  {
   "cell_type": "code",
   "execution_count": 1,
   "metadata": {},
   "outputs": [],
   "source": [
    "from typing import List\n",
    "\n",
    "def fibonacci_numbers_up_to(num: int) -> List[int]:\n",
    "    \"\"\"Returns a sorted list of fibonacci numbers up to a given number\"\"\"\n",
    "    fibonacci_nums = [0, 1]\n",
    "    next_fibonacci = fibonacci_nums[-2] + fibonacci_nums[-1]\n",
    "    while next_fibonacci < num:\n",
    "        fibonacci_nums.append(next_fibonacci)\n",
    "        next_fibonacci = fibonacci_nums[-2] + fibonacci_nums[-1]\n",
    "\n",
    "    return fibonacci_nums\n",
    "\n",
    "def first_element_lte(list_: List[float], num: int) -> int:\n",
    "    \"\"\"Returns the first element in a list less than or equal to given number\n",
    "\n",
    "    Raises ValueError if no elements in the list are less than or equal\n",
    "    \"\"\"\n",
    "    for element in list_:\n",
    "        if element <= num:\n",
    "            return element\n",
    "    else:\n",
    "        raise ValueError()\n",
    "\n",
    "def zeckendorf_representation(num: int) -> List[int]:\n",
    "    \"\"\"Returns a sorted list of fibonacci numbers that sum to a given number\"\"\"\n",
    "    reversed_fibonaccis = reversed(fibonacci_numbers_up_to(num))\n",
    "\n",
    "    # use a Greedy algorithm \n",
    "    zeckendorf_numbers = []\n",
    "    while num > 0:\n",
    "        next_zeckendorf = first_element_lte(reversed_fibonaccis, num)\n",
    "        zeckendorf_numbers.append(next_zeckendorf)\n",
    "        num -= next_zeckendorf\n",
    "\n",
    "    return list(reversed(zeckendorf_numbers))\n",
    "\n",
    "\n",
    "assert sum(zeckendorf_representation(100)) == 100\n",
    "assert zeckendorf_representation(64) == [1, 8, 55]"
   ]
  },
  {
   "cell_type": "markdown",
   "metadata": {},
   "source": [
    "## Testing"
   ]
  },
  {
   "cell_type": "code",
   "execution_count": 3,
   "metadata": {},
   "outputs": [
    {
     "name": "stdout",
     "output_type": "stream",
     "text": [
      "Falsifying example: test_zeckendorf_representation(\n",
      "    num=2,\n",
      ")\n"
     ]
    },
    {
     "ename": "AssertionError",
     "evalue": "",
     "output_type": "error",
     "traceback": [
      "\u001b[0;31m---------------------------------------------------------------------------\u001b[0m",
      "\u001b[0;31mAssertionError\u001b[0m                            Traceback (most recent call last)",
      "\u001b[0;32m<ipython-input-3-29f4f331639c>\u001b[0m in \u001b[0;36m<module>\u001b[0;34m\u001b[0m\n\u001b[1;32m     21\u001b[0m \u001b[0;34m\u001b[0m\u001b[0m\n\u001b[1;32m     22\u001b[0m \u001b[0;34m\u001b[0m\u001b[0m\n\u001b[0;32m---> 23\u001b[0;31m \u001b[0mtest_zeckendorf_representation\u001b[0m\u001b[0;34m(\u001b[0m\u001b[0;34m)\u001b[0m\u001b[0;34m\u001b[0m\u001b[0;34m\u001b[0m\u001b[0m\n\u001b[0m",
      "\u001b[0;32m<ipython-input-3-29f4f331639c>\u001b[0m in \u001b[0;36mtest_zeckendorf_representation\u001b[0;34m()\u001b[0m\n\u001b[1;32m      2\u001b[0m \u001b[0;34m\u001b[0m\u001b[0m\n\u001b[1;32m      3\u001b[0m \u001b[0;34m@\u001b[0m\u001b[0mgiven\u001b[0m\u001b[0;34m(\u001b[0m\u001b[0mstrategies\u001b[0m\u001b[0;34m.\u001b[0m\u001b[0mintegers\u001b[0m\u001b[0;34m(\u001b[0m\u001b[0mmin_value\u001b[0m\u001b[0;34m=\u001b[0m\u001b[0;36m0\u001b[0m\u001b[0;34m)\u001b[0m\u001b[0;34m)\u001b[0m\u001b[0;34m\u001b[0m\u001b[0;34m\u001b[0m\u001b[0m\n\u001b[0;32m----> 4\u001b[0;31m \u001b[0;32mdef\u001b[0m \u001b[0mtest_zeckendorf_representation\u001b[0m\u001b[0;34m(\u001b[0m\u001b[0mnum\u001b[0m\u001b[0;34m:\u001b[0m \u001b[0mint\u001b[0m\u001b[0;34m)\u001b[0m\u001b[0;34m:\u001b[0m\u001b[0;34m\u001b[0m\u001b[0;34m\u001b[0m\u001b[0m\n\u001b[0m\u001b[1;32m      5\u001b[0m     \"\"\"Tests two properties of Zeckendorf Representation\n\u001b[1;32m      6\u001b[0m \u001b[0;34m\u001b[0m\u001b[0m\n",
      "\u001b[0;32m/usr/local/anaconda3/envs/math/lib/python3.7/site-packages/hypothesis/core.py\u001b[0m in \u001b[0;36mwrapped_test\u001b[0;34m(*arguments, **kwargs)\u001b[0m\n\u001b[1;32m   1114\u001b[0m                         \u001b[0mget_trimmed_traceback\u001b[0m\u001b[0;34m(\u001b[0m\u001b[0;34m)\u001b[0m\u001b[0;34m\u001b[0m\u001b[0;34m\u001b[0m\u001b[0m\n\u001b[1;32m   1115\u001b[0m                     )\n\u001b[0;32m-> 1116\u001b[0;31m                     \u001b[0;32mraise\u001b[0m \u001b[0mthe_error_hypothesis_found\u001b[0m\u001b[0;34m\u001b[0m\u001b[0;34m\u001b[0m\u001b[0m\n\u001b[0m\u001b[1;32m   1117\u001b[0m \u001b[0;34m\u001b[0m\u001b[0m\n\u001b[1;32m   1118\u001b[0m         \u001b[0;31m# After having created the decorated test function, we need to copy\u001b[0m\u001b[0;34m\u001b[0m\u001b[0;34m\u001b[0m\u001b[0;34m\u001b[0m\u001b[0m\n",
      "\u001b[0;32m<ipython-input-3-29f4f331639c>\u001b[0m in \u001b[0;36mtest_zeckendorf_representation\u001b[0;34m(num)\u001b[0m\n\u001b[1;32m     18\u001b[0m     \u001b[0;31m# check that no two indices are adjacent\u001b[0m\u001b[0;34m\u001b[0m\u001b[0;34m\u001b[0m\u001b[0;34m\u001b[0m\u001b[0m\n\u001b[1;32m     19\u001b[0m     \u001b[0;32mfor\u001b[0m \u001b[0mindex\u001b[0m\u001b[0;34m,\u001b[0m \u001b[0mnext_index\u001b[0m \u001b[0;32min\u001b[0m \u001b[0mzip\u001b[0m\u001b[0;34m(\u001b[0m\u001b[0mindices\u001b[0m\u001b[0;34m,\u001b[0m \u001b[0mindices\u001b[0m\u001b[0;34m[\u001b[0m\u001b[0;36m1\u001b[0m\u001b[0;34m:\u001b[0m\u001b[0;34m]\u001b[0m\u001b[0;34m)\u001b[0m\u001b[0;34m:\u001b[0m\u001b[0;34m\u001b[0m\u001b[0;34m\u001b[0m\u001b[0m\n\u001b[0;32m---> 20\u001b[0;31m         \u001b[0;32massert\u001b[0m \u001b[0mindex\u001b[0m \u001b[0;34m+\u001b[0m \u001b[0;36m1\u001b[0m \u001b[0;34m<\u001b[0m \u001b[0mnext_index\u001b[0m\u001b[0;34m\u001b[0m\u001b[0;34m\u001b[0m\u001b[0m\n\u001b[0m\u001b[1;32m     21\u001b[0m \u001b[0;34m\u001b[0m\u001b[0m\n\u001b[1;32m     22\u001b[0m \u001b[0;34m\u001b[0m\u001b[0m\n",
      "\u001b[0;31mAssertionError\u001b[0m: "
     ]
    }
   ],
   "source": [
    "from hypothesis import given, settings, strategies\n",
    "\n",
    "@given(strategies.integers(min_value=0))\n",
    "def test_zeckendorf_representation(num: int):\n",
    "    \"\"\"Tests two properties of Zeckendorf Representation\n",
    "\n",
    "    They sum up to the given number\n",
    "    The sum does not include any consecutive Fibonacci numbers\n",
    "    \"\"\"\n",
    "    zeckendorf_nums = zeckendorf_representation(num)\n",
    "    assert sum(zeckendorf_nums) == num\n",
    "\n",
    "    fibonacci_nums = fibonacci_numbers_up_to(num+1)\n",
    "    # get the indices \n",
    "    indices = [\n",
    "        fibonacci_nums.index(zeckendorf_num)\n",
    "        for zeckendorf_num in zeckendorf_nums\n",
    "    ]\n",
    "    # check that no two indices are adjacent\n",
    "    for index, next_index in zip(indices, indices[1:]):\n",
    "        assert index + 1 < next_index\n",
    "\n",
    "\n",
    "test_zeckendorf_representation()"
   ]
  },
  {
   "cell_type": "code",
   "execution_count": null,
   "metadata": {},
   "outputs": [],
   "source": []
  },
  {
   "cell_type": "markdown",
   "metadata": {},
   "source": [
    "### Debugging\n",
    "\n",
    "Hmm... Hypothesis has found a bug for n=2. Let's see what we've got"
   ]
  },
  {
   "cell_type": "code",
   "execution_count": 4,
   "metadata": {},
   "outputs": [
    {
     "data": {
      "text/plain": [
       "[1, 1]"
      ]
     },
     "execution_count": 4,
     "metadata": {},
     "output_type": "execute_result"
    }
   ],
   "source": [
    "zeckendorf_representation(2)"
   ]
  },
  {
   "cell_type": "markdown",
   "metadata": {},
   "source": [
    "Well that doesn't look right at all. 2 itself is a Fibonacci number and its Zeckendorf representation is simply `[2]`. Careful inspection shows that the bug is on the very first line of `zeckendorf_representation`."
   ]
  }
 ],
 "metadata": {
  "kernelspec": {
   "display_name": "Python [conda env:math]",
   "language": "python",
   "name": "conda-env-math-py"
  },
  "language_info": {
   "codemirror_mode": {
    "name": "ipython",
    "version": 3
   },
   "file_extension": ".py",
   "mimetype": "text/x-python",
   "name": "python",
   "nbconvert_exporter": "python",
   "pygments_lexer": "ipython3",
   "version": "3.7.5"
  }
 },
 "nbformat": 4,
 "nbformat_minor": 4
}
