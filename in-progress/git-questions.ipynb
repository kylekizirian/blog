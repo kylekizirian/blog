{
 "cells": [
  {
   "cell_type": "markdown",
   "metadata": {},
   "source": [
    "# Asking questions about the git history\n",
    "\n",
    "Who are the top 10 commit authors in CPython's history?\n",
    "What percent of all of CPython's commits were made by the top ten\n",
    "commit authors? And can I figure this out in one bash line?\n",
    "\n",
    "The answer to the third question is yes (it's a very long line).\n",
    "Let's look at how we'd build that line to get the answers to (1) and\n",
    "(2). I'll actually cheat here and use multiple lines for readability,\n",
    "but at the very end I'll show how it can be done in a single line.\n",
    "\n",
    "Parsing through a git repo's history is an excellent way to learn both\n",
    "git and the unix shell. Git's interface is designed to be shell friendly\n",
    "and it's fun to figure out how to get answers out of your git history.\n",
    "\n",
    "Let's look at pulling a few interesting stats out of CPython's history\n",
    "\n",
    "1. How many commits are in CPython's history?\n",
    "2. How many different people have committed to CPython?\n",
    "3. Who are the top 10 committers?\n",
    "4. What % of all commits were made by the top 10 committers?"
   ]
  },
  {
   "cell_type": "code",
   "execution_count": 92,
   "metadata": {},
   "outputs": [
    {
     "name": "stdout",
     "output_type": "stream",
     "text": [
      "/Users/Kyle/code/cpython\n"
     ]
    }
   ],
   "source": [
    "%cd ~/code/cpython"
   ]
  },
  {
   "cell_type": "markdown",
   "metadata": {},
   "source": [
    "## How many commits are in CPython's history?\n",
    "\n",
    "The all-important `git rev-list` prints all commit hashes reachable from\n",
    "a given commit. `wc -l` counts the number of lines\n",
    "in stdin so combining the two prints the total number of commits. "
   ]
  },
  {
   "cell_type": "code",
   "execution_count": 93,
   "metadata": {},
   "outputs": [
    {
     "name": "stdout",
     "output_type": "stream",
     "text": [
      "  106683\n"
     ]
    }
   ],
   "source": [
    "%%bash\n",
    "git rev-list HEAD | wc -l"
   ]
  },
  {
   "cell_type": "markdown",
   "metadata": {},
   "source": [
    "## How many different people have committed to CPython?\n",
    "\n",
    "We can use `git show` to extract information about a particular commit.\n",
    "The output of `git show` opens in paged view akin to `less`, but the\n",
    "`--no-pager` flag instructs git to just send its output to stdout.\n",
    "The `--no-patch` flag omits the commit's diff and displays just the\n",
    "commit information."
   ]
  },
  {
   "cell_type": "code",
   "execution_count": 3,
   "metadata": {},
   "outputs": [
    {
     "name": "stdout",
     "output_type": "stream",
     "text": [
      "commit b146568dfcbcd7409c724f8917e4f77433dd56e4\n",
      "Author: Serhiy Storchaka <storchaka@gmail.com>\n",
      "Date:   Sat Mar 21 15:53:28 2020 +0200\n",
      "\n",
      "    bpo-39652: Truncate the column name after '[' only if PARSE_COLNAMES is set. (GH-18942)\n"
     ]
    }
   ],
   "source": [
    "%%bash\n",
    "git show HEAD -n 1 | git --no-pager show --no-patch"
   ]
  },
  {
   "cell_type": "markdown",
   "metadata": {},
   "source": [
    "`git show` also provies a `--format` option for specific\n",
    "information about a commit. The `%an` specifier prints\n",
    "the author's name."
   ]
  },
  {
   "cell_type": "code",
   "execution_count": 94,
   "metadata": {},
   "outputs": [
    {
     "name": "stdout",
     "output_type": "stream",
     "text": [
      "Serhiy Storchaka\n"
     ]
    }
   ],
   "source": [
    "%%bash\n",
    "git show HEAD -n 1 | git --no-pager show --no-patch --format=%an"
   ]
  },
  {
   "cell_type": "markdown",
   "metadata": {},
   "source": [
    "Now, `git rev-list` can be piped into a loop to `git show` commit\n",
    "information one-by-one."
   ]
  },
  {
   "cell_type": "code",
   "execution_count": 5,
   "metadata": {},
   "outputs": [
    {
     "name": "stdout",
     "output_type": "stream",
     "text": [
      "Serhiy Storchaka\n",
      "Serhiy Storchaka\n",
      "Victor Stinner\n",
      "Victor Stinner\n",
      "Victor Stinner\n",
      "Victor Stinner\n",
      "Victor Stinner\n",
      "Hai Shi\n",
      "amaajemyfren\n",
      "Victor Stinner\n"
     ]
    }
   ],
   "source": [
    "%%bash\n",
    "git rev-list HEAD -n 10 |\n",
    "while read commit\n",
    "do\n",
    "    git --no-pager show --no-patch --format='%an' $commit\n",
    "done"
   ]
  },
  {
   "cell_type": "markdown",
   "metadata": {},
   "source": [
    "Now we have the last 10 commit authors but we want the number of\n",
    "unique commit authors. The `uniq` command sounds promising but it only\n",
    "removes duplicates on adjacent lines, so we first need to `sort` stdin\n",
    "and then pipe the output of that into `uniq` to get the unique commit\n",
    "authors."
   ]
  },
  {
   "cell_type": "code",
   "execution_count": 95,
   "metadata": {},
   "outputs": [
    {
     "name": "stdout",
     "output_type": "stream",
     "text": [
      "Hai Shi\n",
      "Serhiy Storchaka\n",
      "Victor Stinner\n",
      "amaajemyfren\n"
     ]
    }
   ],
   "source": [
    "%%bash\n",
    "git rev-list HEAD -n 10 |\n",
    "while read commit\n",
    "do\n",
    "    git --no-pager show --no-patch --format='%an' $commit\n",
    "done |\n",
    "sort |\n",
    "uniq"
   ]
  },
  {
   "cell_type": "markdown",
   "metadata": {},
   "source": [
    "Again, we can pipe the output of this to `wc -l` to count the\n",
    "number of lines in stdin, giving us the number of unique commit\n",
    "authors."
   ]
  },
  {
   "cell_type": "code",
   "execution_count": 7,
   "metadata": {},
   "outputs": [
    {
     "name": "stdout",
     "output_type": "stream",
     "text": [
      "       4\n"
     ]
    }
   ],
   "source": [
    "%%bash\n",
    "git rev-list HEAD -n 10 |\n",
    "while read commit\n",
    "do\n",
    "    git --no-pager show --no-patch --format='%an' $commit\n",
    "done |\n",
    "sort | uniq | wc -l"
   ]
  },
  {
   "cell_type": "markdown",
   "metadata": {},
   "source": [
    "Removing the `-n` from `git rev-list` runs over the entire\n",
    "history."
   ]
  },
  {
   "cell_type": "code",
   "execution_count": 8,
   "metadata": {},
   "outputs": [
    {
     "name": "stdout",
     "output_type": "stream",
     "text": [
      "    1292\n"
     ]
    }
   ],
   "source": [
    "%%bash\n",
    "git rev-list HEAD |\n",
    "while read commit\n",
    "do\n",
    "    git --no-pager show --no-patch --format='%an' $commit\n",
    "done |\n",
    "sort |\n",
    "uniq |\n",
    "wc -l"
   ]
  },
  {
   "cell_type": "markdown",
   "metadata": {},
   "source": [
    "# Who are the top 10 committers?\n",
    "\n",
    "With only a slight modification to the above, adding a `-c` flag\n",
    "to `uniq` prints the number of occurrences of a line."
   ]
  },
  {
   "cell_type": "code",
   "execution_count": 9,
   "metadata": {},
   "outputs": [
    {
     "name": "stdout",
     "output_type": "stream",
     "text": [
      "   1 Hai Shi\n",
      "   2 Serhiy Storchaka\n",
      "   6 Victor Stinner\n",
      "   1 amaajemyfren\n"
     ]
    }
   ],
   "source": [
    "%%bash\n",
    "git rev-list HEAD -n 10 |\n",
    "while read commit\n",
    "do\n",
    "    git --no-pager show --no-patch --format='%an' $commit\n",
    "done |\n",
    "sort |\n",
    "uniq -c "
   ]
  },
  {
   "cell_type": "markdown",
   "metadata": {},
   "source": [
    "To get the top 10 commit authors, we can re-sort this output by\n",
    "piping the output of `uniq -c` back into `sort`. For this sort,\n",
    "we'll need to pass a `-r` flag to sort in reverse order (printing\n",
    "the largest numbers first) and a `-n` flag to do a numeric sort."
   ]
  },
  {
   "cell_type": "code",
   "execution_count": 10,
   "metadata": {},
   "outputs": [
    {
     "name": "stdout",
     "output_type": "stream",
     "text": [
      "   6 Victor Stinner\n",
      "   2 Serhiy Storchaka\n",
      "   1 amaajemyfren\n",
      "   1 Hai Shi\n"
     ]
    }
   ],
   "source": [
    "%%bash\n",
    "git rev-list HEAD -n 10 |\n",
    "while read commit\n",
    "do git --no-pager show --no-patch --format='%an' $commit\n",
    "done |\n",
    "sort |\n",
    "uniq -c |\n",
    "sort -rn "
   ]
  },
  {
   "cell_type": "markdown",
   "metadata": {},
   "source": [
    "Finally we can run this over the entire history and pipe the output\n",
    "to `head` to grab just the first 10 lines.\n",
    "\n",
    "Note: this operation takes a _long_ time due to the two massive sorts,\n",
    "I recommend redirecting the output to a file and running this in the\n",
    "background by appending `>> top_authors.txt &`. I've done this\n",
    "separately and will use the top_authors.txt file from here on out."
   ]
  },
  {
   "cell_type": "code",
   "execution_count": 11,
   "metadata": {},
   "outputs": [
    {
     "name": "stdout",
     "output_type": "stream",
     "text": [
      "11194 Guido van Rossum\n",
      "6110 Victor Stinner\n",
      "5837 Benjamin Peterson\n",
      "5677 Georg Brandl\n",
      "5465 Fred Drake\n",
      "4159 Raymond Hettinger\n",
      "4006 Serhiy Storchaka\n",
      "3766 Antoine Pitrou\n",
      "2978 Jack Jansen\n",
      "2765 Martin v. Löwis\n"
     ]
    }
   ],
   "source": [
    "%%bash\n",
    "git rev-list HEAD |\n",
    "while read commit\n",
    "do\n",
    "    git --no-pager show --no-patch --format='%an' $commit\n",
    "done |\n",
    "sort |\n",
    "uniq -c |\n",
    "sort -rn |\n",
    "head"
   ]
  },
  {
   "cell_type": "markdown",
   "metadata": {},
   "source": [
    "## What % of all commits come from the top 10 commit authors?\n",
    "\n",
    "So far we've used only a few commands combined with the power of\n",
    "piping and looping. We're about to look at a lot more commands that\n",
    "do very specific things. We'll build up slowly and look at the output\n",
    "of each intermediate step, but it's not very important what any\n",
    "individual command accomplishes. More important is understanding how\n",
    "data flows through pipes and that commnands exist for doing any\n",
    "kind of data manipulation. Like any programming language, learning the\n",
    "specific pieces comes with repeated practice.\n",
    "\n",
    "To get the percentage of commits from the top authors, we need to\n",
    "combine all of their commit counts and divide by the total number\n",
    "of commits. To get the individual author's commit count, we can\n",
    "use `cut` to extract from a line, the `-d ' '` specifies that the\n",
    "line is delimited by spaces and `-f 1` specifies that we want the\n",
    "first column (that is, everything before the first space)."
   ]
  },
  {
   "cell_type": "code",
   "execution_count": 96,
   "metadata": {},
   "outputs": [
    {
     "name": "stdout",
     "output_type": "stream",
     "text": [
      "11194\n",
      "6110\n",
      "5837\n",
      "5677\n",
      "5465\n",
      "4159\n",
      "4006\n",
      "3766\n",
      "2978\n",
      "2765\n"
     ]
    }
   ],
   "source": [
    "%%bash\n",
    "cat top_authors.txt |\n",
    "while read author\n",
    "do\n",
    "    echo $author |\n",
    "    cut -d ' ' -f 1\n",
    "done"
   ]
  },
  {
   "cell_type": "markdown",
   "metadata": {},
   "source": [
    "Now to get each author's contribution as a percentage, we can run\n",
    "`git rev-list HEAD | wc -l` and assign its output to a variable.\n",
    "We can then use `awk` to take each author's commit and append\n",
    "`*100 / $num_commits` to generate an expression for each author's\n",
    "commit percentage."
   ]
  },
  {
   "cell_type": "code",
   "execution_count": 97,
   "metadata": {},
   "outputs": [
    {
     "name": "stdout",
     "output_type": "stream",
     "text": [
      "11194*100 /  106683\n",
      "6110*100 /  106683\n",
      "5837*100 /  106683\n",
      "5677*100 /  106683\n",
      "5465*100 /  106683\n",
      "4159*100 /  106683\n",
      "4006*100 /  106683\n",
      "3766*100 /  106683\n",
      "2978*100 /  106683\n",
      "2765*100 /  106683\n"
     ]
    }
   ],
   "source": [
    "%%bash\n",
    "num_commits=`git rev-list HEAD | wc -l`\n",
    "\n",
    "cat top_authors.txt |\n",
    "while read author\n",
    "do\n",
    "    echo $author |\n",
    "    cut -d ' ' -f 1 |\n",
    "    awk -v num_commits=\"$num_commits\" '{print $0 \"*100 /\" num_commits}'\n",
    "done"
   ]
  },
  {
   "cell_type": "markdown",
   "metadata": {},
   "source": [
    "Now we can pipe this expression into `bc` (I think that this stands for\n",
    "Berkley calculator but I couldn't find definitive evidence) to evaluate\n",
    "the expression."
   ]
  },
  {
   "cell_type": "code",
   "execution_count": 98,
   "metadata": {},
   "outputs": [
    {
     "name": "stdout",
     "output_type": "stream",
     "text": [
      "10.49276829485485035103\n",
      "5.72724801514768051142\n",
      "5.47134969957725223325\n",
      "5.32137266481070086143\n",
      "5.12265309374502029376\n",
      "3.89846554746304472127\n",
      "3.75505000796752997197\n",
      "3.53008445581770291424\n",
      "2.79144755959243740802\n",
      "2.59179063205946589428\n"
     ]
    }
   ],
   "source": [
    "%%bash\n",
    "num_commits=`git rev-list HEAD | wc -l`\n",
    "\n",
    "cat top_authors.txt |\n",
    "while read author\n",
    "do\n",
    "    echo $author |\n",
    "    cut -d ' ' -f 1 |\n",
    "    awk -v num_commits=\"$num_commits\" '{print $0 \"*100/\" num_commits}' |\n",
    "    bc -l\n",
    "done"
   ]
  },
  {
   "cell_type": "markdown",
   "metadata": {},
   "source": [
    "We're almost there, the last step is to sum all of these lines to get\n",
    "the total commit percentage. We can use `paste` to smash together all\n",
    "of the lines in stdin. The `-s` flag indicates we'll be reading in just\n",
    "one stream of text (as opposed to pasting two together), the `-d+`\n",
    "option pastes each line with a `+` in between and the `-` argument\n",
    "directs `paste` to read from stdin as opposed to a file."
   ]
  },
  {
   "cell_type": "code",
   "execution_count": 99,
   "metadata": {},
   "outputs": [
    {
     "name": "stdout",
     "output_type": "stream",
     "text": [
      "10.49276829485485035103+5.72724801514768051142+5.47134969957725223325+5.32137266481070086143+5.12265309374502029376+3.89846554746304472127+3.75505000796752997197+3.53008445581770291424+2.79144755959243740802+2.59179063205946589428\n"
     ]
    }
   ],
   "source": [
    "%%bash\n",
    "num_commits=`git rev-list HEAD | wc -l`\n",
    "\n",
    "cat top_authors.txt |\n",
    "while read author\n",
    "do\n",
    "    echo $author |\n",
    "    cut -d ' ' -f 1 |\n",
    "    awk -v num_commits=\"$num_commits\" '{print $0 \"*100/\" num_commits}' |\n",
    "    bc -l\n",
    "done |\n",
    "paste -s -d+ -"
   ]
  },
  {
   "cell_type": "markdown",
   "metadata": {},
   "source": [
    "The last step is simply to pipe this back into `bc` to evaluate\n",
    "the expression."
   ]
  },
  {
   "cell_type": "code",
   "execution_count": 90,
   "metadata": {},
   "outputs": [
    {
     "name": "stdout",
     "output_type": "stream",
     "text": [
      "48.70222997103568516067\n"
     ]
    }
   ],
   "source": [
    "%%bash\n",
    "num_commits=`git rev-list HEAD | wc -l`\n",
    "\n",
    "cat top_authors.txt |\n",
    "while read author\n",
    "do\n",
    "    echo $author |\n",
    "    cut -d ' ' -f 1 |\n",
    "    awk -v num_commits=\"$num_commits\" '{print $0 \"*100/\" num_commits}' |\n",
    "    bc -l\n",
    "done |\n",
    "paste -s -d+ - |\n",
    "bc -l"
   ]
  },
  {
   "cell_type": "markdown",
   "metadata": {},
   "source": [
    "And we're done!\n",
    "\n",
    "## The Python way\n",
    "\n",
    "Python's subprocess module makes it easy to execute arbitrary commands\n",
    "and read from stdout. This can be useful for writing cross-platform\n",
    "scripts but it also allows you to use higher-level data structures like\n",
    "collections.Counter for ease and readability. Take the following\n",
    "equivalent script to find the top 10 commit authors."
   ]
  },
  {
   "cell_type": "code",
   "execution_count": null,
   "metadata": {},
   "outputs": [],
   "source": [
    "import subprocess\n",
    "from collections import Counter\n",
    "from pathlib import Path\n",
    "\n",
    "cpython_repo = Path.home() / \"code\" / \"cpython\"\n",
    "rev_list = subprocess.run(\n",
    "    [\"git\", \"rev-list\", \"HEAD\"],\n",
    "    cwd=cpython_repo,\n",
    "    stdout=subprocess.PIPE,\n",
    "    encoding=\"utf-8\",\n",
    ")\n",
    "\n",
    "commit_hashes = rev_list.stdout.split(\"\\n\")[:-1]\n",
    "commit_authors = Counter()\n",
    "\n",
    "for commit_hash in commit_hashes:\n",
    "    commit_author = subprocess.run(\n",
    "        [\n",
    "            \"git\", \"--no-pager\", \"show\", commit_hash,\n",
    "            \"--oneline\", \"--no-patch\", \"--format=%an\"\n",
    "        ],\n",
    "        cwd=cpython_repo,\n",
    "        stdout=subprocess.PIPE,\n",
    "        encoding=\"utf-8\",\n",
    "    )\n",
    "\n",
    "    commit_authors.update([commit_author.stdout.strip()])\n",
    "\n",
    "print(commit_authors.most_common(10))"
   ]
  },
  {
   "cell_type": "code",
   "execution_count": null,
   "metadata": {},
   "outputs": [],
   "source": []
  }
 ],
 "metadata": {
  "kernelspec": {
   "display_name": "Python 3",
   "language": "python",
   "name": "python3"
  },
  "language_info": {
   "codemirror_mode": {
    "name": "ipython",
    "version": 3
   },
   "file_extension": ".py",
   "mimetype": "text/x-python",
   "name": "python",
   "nbconvert_exporter": "python",
   "pygments_lexer": "ipython3",
   "version": "3.7.5"
  }
 },
 "nbformat": 4,
 "nbformat_minor": 4
}
