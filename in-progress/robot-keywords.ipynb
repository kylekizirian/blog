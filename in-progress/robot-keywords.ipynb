{
 "cells": [
  {
   "cell_type": "markdown",
   "metadata": {},
   "source": [
    "Let's look at how Robot Framework takes a statement\n",
    "like this\n",
    "\n",
    "```\n",
    "Add 3 and 4\n",
    "```\n",
    "\n",
    "And turns it into a function call like this\n",
    "\n",
    "```python\n",
    "add('1', '2')\n",
    "```\n",
    "\n",
    "Take an `Arithmetic` library that provides a few\n",
    "keywords with embedded arguments"
   ]
  },
  {
   "cell_type": "code",
   "execution_count": 1,
   "metadata": {},
   "outputs": [],
   "source": [
    "from robot.api import deco\n",
    "\n",
    "class Arithmetic:\n",
    "    \n",
    "    @deco.keyword(\"Add ${first} and ${second}\")\n",
    "    def add(self, first: str, second: str) -> float:\n",
    "        return float(first) + float(second)\n",
    "\n",
    "    @deco.keyword(\"Subtract ${first} from ${second}\")\n",
    "    def subtract(self, first: str, second: str) -> float:\n",
    "        return float(second) - float(first)\n",
    "    \n",
    "    @deco.keyword(\"Multiply ${first} and ${second}\")\n",
    "    def multiply(self, first: str, second: str) -> float:\n",
    "        return float(second) - float(first)"
   ]
  },
  {
   "cell_type": "markdown",
   "metadata": {},
   "source": [
    "At the beginnning of a test case, Robot Framework\n",
    "creates an instance of this class."
   ]
  },
  {
   "cell_type": "code",
   "execution_count": 2,
   "metadata": {},
   "outputs": [],
   "source": [
    "arithmetic = Arithmetic()"
   ]
  },
  {
   "cell_type": "markdown",
   "metadata": {},
   "source": [
    "Robot Framework adds a `robot_name` attribute to\n",
    "keywords with embedded arguments."
   ]
  },
  {
   "cell_type": "code",
   "execution_count": 3,
   "metadata": {},
   "outputs": [
    {
     "name": "stdout",
     "output_type": "stream",
     "text": [
      "Add ${first} and ${second}\n"
     ]
    }
   ],
   "source": [
    "print(arithmetic.add.robot_name)"
   ]
  },
  {
   "cell_type": "markdown",
   "metadata": {},
   "source": [
    "We can do a little bit of magic with the `inspect`\n",
    "library to find all methods in the `Arithmetic` class\n",
    "that have a `robot_name` attribute. We'll store the\n",
    "text of the keyword and the function associated with\n",
    "the keyword in a `namedtuple` so that we can retrieve\n",
    "them later."
   ]
  },
  {
   "cell_type": "code",
   "execution_count": 4,
   "metadata": {},
   "outputs": [
    {
     "name": "stdout",
     "output_type": "stream",
     "text": [
      "Name: Add ${first} and ${second}\n",
      "Method: add\n",
      "\n",
      "Name: Multiply ${first} and ${second}\n",
      "Method: multiply\n",
      "\n",
      "Name: Subtract ${first} from ${second}\n",
      "Method: subtract\n",
      "\n"
     ]
    }
   ],
   "source": [
    "import inspect\n",
    "from collections import namedtuple\n",
    "\n",
    "Keyword = namedtuple(\"Keyword\", [\"name\", \"method\"])\n",
    "\n",
    "methods = [\n",
    "    i[1] for i in inspect.getmembers(arithmetic, inspect.ismethod)\n",
    "]\n",
    "\n",
    "keywords = [\n",
    "    Keyword(getattr(method, \"robot_name\"), method)\n",
    "    for method in methods\n",
    "    if hasattr(method, \"robot_name\")\n",
    "]\n",
    "\n",
    "for keyword in keywords:\n",
    "    print(f\"Name: {keyword.name}\")\n",
    "    print(f\"Method: {keyword.method.__name__}\\n\")"
   ]
  },
  {
   "cell_type": "markdown",
   "metadata": {},
   "source": [
    "Now, given a string like\n",
    "\n",
    "```\n",
    "Add 1 and 2\n",
    "```\n",
    "\n",
    "How do we match that to one of our keywords? We can\n",
    "substitute all instances of Robot Framework's variable\n",
    "syntax (that is, everything around a `${}`) with a\n",
    "regular expression that matches any string. We also\n",
    "want to capture every match so that we can pass it\n",
    "as an argument to the associated method."
   ]
  },
  {
   "cell_type": "code",
   "execution_count": 5,
   "metadata": {},
   "outputs": [
    {
     "name": "stdout",
     "output_type": "stream",
     "text": [
      "Add (.*) and (.*)\n",
      "Multiply (.*) and (.*)\n",
      "Subtract (.*) from (.*)\n"
     ]
    }
   ],
   "source": [
    "import re\n",
    "\n",
    "regex_keywords = []\n",
    "\n",
    "for keyword in keywords:\n",
    "    # substitute all instances of ${} with (.*)\n",
    "    regex_name = re.sub(\"\\$\\{.+?\\}\", \"(.*)\", keyword.name)\n",
    "    print(regex_name)\n",
    "    \n",
    "    regex_keyword = Keyword(regex_name, keyword.method)\n",
    "    regex_keywords.append(regex_keyword)"
   ]
  },
  {
   "cell_type": "markdown",
   "metadata": {},
   "source": [
    "Given a string like\n",
    "\n",
    "```\n",
    "Add 1 and 2\n",
    "```\n",
    "\n",
    "We can check for a match for a match against each regular\n",
    "expression. "
   ]
  },
  {
   "cell_type": "code",
   "execution_count": 6,
   "metadata": {},
   "outputs": [
    {
     "name": "stdout",
     "output_type": "stream",
     "text": [
      "Found regular expression match:\n",
      "Add (.*) and (.*)\n"
     ]
    }
   ],
   "source": [
    "keyword_str = \"Add 1 and 2\"\n",
    "\n",
    "matching_keywords = [\n",
    "    keyword\n",
    "    for keyword in regex_keywords\n",
    "    if re.fullmatch(keyword.name, keyword_str)\n",
    "]\n",
    "\n",
    "matching_keyword = matching_keywords[0]\n",
    "\n",
    "print(\"Found regular expression match:\")\n",
    "print(matching_keywords[0].name)"
   ]
  },
  {
   "cell_type": "markdown",
   "metadata": {},
   "source": [
    "Now that we have a match, all that's left is to pull the\n",
    "values `1` and `2` out of the keyword so that we can call\n",
    "the matching function. We've already captured them as regex\n",
    "groups which can be retrieved from\n",
    "[Match.groups()](https://docs.python.org/3/library/re.html#re.Match.groups)."
   ]
  },
  {
   "cell_type": "code",
   "execution_count": 7,
   "metadata": {},
   "outputs": [
    {
     "name": "stdout",
     "output_type": "stream",
     "text": [
      "('1', '2')\n"
     ]
    }
   ],
   "source": [
    "match = re.fullmatch(matching_keyword.name, keyword_str)\n",
    "keyword_params = match.groups()\n",
    "print(keyword_params)"
   ]
  },
  {
   "cell_type": "markdown",
   "metadata": {},
   "source": [
    "And all that's left is to unpack these as parameters to the\n",
    "matching function!"
   ]
  },
  {
   "cell_type": "code",
   "execution_count": 8,
   "metadata": {},
   "outputs": [
    {
     "data": {
      "text/plain": [
       "3.0"
      ]
     },
     "execution_count": 8,
     "metadata": {},
     "output_type": "execute_result"
    }
   ],
   "source": [
    "matching_keyword.method(*keyword_params)"
   ]
  }
 ],
 "metadata": {
  "kernelspec": {
   "display_name": "Python 3",
   "language": "python",
   "name": "python3"
  },
  "language_info": {
   "codemirror_mode": {
    "name": "ipython",
    "version": 3
   },
   "file_extension": ".py",
   "mimetype": "text/x-python",
   "name": "python",
   "nbconvert_exporter": "python",
   "pygments_lexer": "ipython3",
   "version": "3.7.5"
  }
 },
 "nbformat": 4,
 "nbformat_minor": 4
}
