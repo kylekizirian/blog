{
 "cells": [
  {
   "cell_type": "markdown",
   "metadata": {},
   "source": [
    "# Why Python's is isn't equals\n",
    "\n",
    "It is tremendously easy to mix up `is` and `==` when learning Python.\n",
    "The difference seems subtle at first and in many cases the two\n",
    "operators seem to be doing the exact same thing.\n",
    "\n",
    "For example:"
   ]
  },
  {
   "cell_type": "code",
   "execution_count": 1,
   "metadata": {},
   "outputs": [
    {
     "name": "stdout",
     "output_type": "stream",
     "text": [
      "one == 1\n",
      "one is 1\n"
     ]
    }
   ],
   "source": [
    "one = 1\n",
    "\n",
    "if one == 1:\n",
    "    print(\"one == 1\")\n",
    "\n",
    "if one is 1:\n",
    "    print(\"one is 1\")"
   ]
  },
  {
   "cell_type": "markdown",
   "metadata": {},
   "source": [
    "The difference between the two, however, is important and misusing `is`\n",
    "can lead to perplexing bugs. If you don't read any further, the\n",
    "most important thing to take away is\n",
    "\n",
    "- Never use `is` to compare a variable to a literal value, always use `==`\n",
    "- Using `is` to check if a variable `is None` is the only correct usage\n",
    "\n",
    "The fact that `one is 1` works above should be thought of as a quirk in\n",
    "Python's implementation, but incorrect code.\n",
    "\n",
    "Python's `is` operator means _these two things point to the same location\n",
    "in memory_ while `==` means _these two things store the same value_. This\n",
    "is important because if `a is b` then changing the state of\n",
    "`a` also changes `b`, while no such expectation should be made\n",
    "with `==`. It is obvious that if `a is b` then `a == b`, but the reverse\n",
    "is not true.\n",
    "\n",
    "An example to illustrate:"
   ]
  },
  {
   "cell_type": "code",
   "execution_count": 2,
   "metadata": {},
   "outputs": [
    {
     "name": "stdout",
     "output_type": "stream",
     "text": [
      "list_1 == list_2\n",
      "list_1 is list_2\n"
     ]
    }
   ],
   "source": [
    "list_1 = [1, 2]\n",
    "list_2 = list_1\n",
    "\n",
    "if list_1 == list_2:\n",
    "    print(\"list_1 == list_2\")\n",
    "\n",
    "if list_1 is list_2:\n",
    "    print(\"list_1 is list_2\")"
   ]
  },
  {
   "cell_type": "code",
   "execution_count": 3,
   "metadata": {},
   "outputs": [
    {
     "name": "stdout",
     "output_type": "stream",
     "text": [
      "list_1: [1, 2, 3]\n",
      "list_2: [1, 2, 3]\n"
     ]
    }
   ],
   "source": [
    "list_1.append(3)\n",
    "\n",
    "print(f\"list_1: {list_1}\")\n",
    "print(f\"list_2: {list_2}\")"
   ]
  },
  {
   "cell_type": "markdown",
   "metadata": {},
   "source": [
    "Note that updating `list_1` also updates `list_2`. We can also see that\n",
    "they have the same `id`"
   ]
  },
  {
   "cell_type": "code",
   "execution_count": 4,
   "metadata": {},
   "outputs": [
    {
     "name": "stdout",
     "output_type": "stream",
     "text": [
      "id(list_1): 4562732848\n",
      "id(list_2): 4562732848\n"
     ]
    }
   ],
   "source": [
    "print(f\"id(list_1): {id(list_1)}\")\n",
    "print(f\"id(list_2): {id(list_2)}\")"
   ]
  },
  {
   "cell_type": "markdown",
   "metadata": {},
   "source": [
    "## Why this is important\n",
    "\n",
    "Given what we've looked at so far, it seems strange that `one is 1`\n",
    "above returned True because it implies that the variable `one` is stored\n",
    "at the same location as the value `1`. Indeed, this is exactly what happens\n",
    "and it's an optimization done by CPython when storing booleans, small ints,\n",
    "and short strings. The optimization is most common in storing strings and\n",
    "is called [string interning](https://en.wikipedia.org/wiki/String_interning).\n",
    "\n",
    "This optimization, however, can lead to confusing scenarios like the following:"
   ]
  },
  {
   "cell_type": "code",
   "execution_count": 5,
   "metadata": {},
   "outputs": [
    {
     "data": {
      "text/plain": [
       "True"
      ]
     },
     "execution_count": 5,
     "metadata": {},
     "output_type": "execute_result"
    }
   ],
   "source": [
    "one = 1\n",
    "one is 1"
   ]
  },
  {
   "cell_type": "code",
   "execution_count": 6,
   "metadata": {},
   "outputs": [
    {
     "data": {
      "text/plain": [
       "False"
      ]
     },
     "execution_count": 6,
     "metadata": {},
     "output_type": "execute_result"
    }
   ],
   "source": [
    "one_thousand = 1000\n",
    "one_thousand is 1000"
   ]
  },
  {
   "cell_type": "code",
   "execution_count": 7,
   "metadata": {},
   "outputs": [
    {
     "data": {
      "text/plain": [
       "True"
      ]
     },
     "execution_count": 7,
     "metadata": {},
     "output_type": "execute_result"
    }
   ],
   "source": [
    "short_string = \"short\"\n",
    "short_string is \"short\""
   ]
  },
  {
   "cell_type": "code",
   "execution_count": 8,
   "metadata": {},
   "outputs": [
    {
     "data": {
      "text/plain": [
       "False"
      ]
     },
     "execution_count": 8,
     "metadata": {},
     "output_type": "execute_result"
    }
   ],
   "source": [
    "not_so_short_string = \"not so short string\"\n",
    "not_so_short_string is \"not so short string\""
   ]
  },
  {
   "cell_type": "markdown",
   "metadata": {},
   "source": [
    "Note the difference in behavior depending the size of the value being\n",
    "stored. Even more confusing, however, is that this is\n",
    "implementation-specific. Switching between 32 and 64-bit CPython (and\n",
    "to a different implementation altogether) yields different behaviors.\n",
    "\n",
    "I once spent several hours trying to figure out why a script that worked\n",
    "on one Windows PC did not work at all on another. The script was sending\n",
    "data over a serial port so I was quite sure that there was either a\n",
    "hardware issue or a misconfigured setting somewhere. It turned\n",
    "out that the working PC had 64-bit Python installed while the troublesome\n",
    "PC had a 32-bit install and a string comparison (quite far from where\n",
    "I was searching for the issue) using `is` was behaving differently."
   ]
  },
  {
   "cell_type": "markdown",
   "metadata": {},
   "source": [
    "## Parting thoughts\n",
    "\n",
    "Most of the conda environments that I have floating around at the moment are Python 3.7.\n",
    "While writing this, I created a new conda environment for testing and learned that\n",
    "[Python 3.8 now emits a SynaxWarning on erroneous usage of `is`](https://docs.python.org/3/whatsnew/3.8.html#changes-in-python-behavior).\n",
    "This is an excellent idea and I'm glad that it made its way into CPython. Pylint\n",
    "also provides warnings against this and is yet another reason to use static\n",
    "analysis tools.\n",
    "\n",
    "I didn't really address the fact that `is None` is the correct way to do\n",
    "comparisons to `None`. There is a good reason for it and it's explained in\n",
    "[this Real Python post](https://realpython.com/null-in-python/) under _Taking\n",
    "a Look Under the Hood_. The short explanation is that `None` is an immutable\n",
    "singleton in Python so all copies of it will point to the same thing. Using\n",
    "`== None` _generally_ also works, although for reasons also outlined in the\n",
    "Real Python post, it is not the same and has the potential to produce very\n",
    "confusing bugs. This distinction is important but understandably confusing\n",
    "at first.\n",
    "\n",
    "There are a few other caveats in things that I've written here. For example,\n",
    "it is possible for an `is` comparison to evaluate to True while an `==`\n",
    "to evaluate to False by doing something like:"
   ]
  },
  {
   "cell_type": "code",
   "execution_count": 9,
   "metadata": {},
   "outputs": [
    {
     "name": "stdout",
     "output_type": "stream",
     "text": [
      "a is b: True\n",
      "a == b: False\n"
     ]
    }
   ],
   "source": [
    "class NeverEquals:\n",
    "\n",
    "    def __eq__(self, other):\n",
    "        return False\n",
    "\n",
    "a = NeverEquals()\n",
    "b = a\n",
    "\n",
    "print(f\"a is b: {a is b}\")\n",
    "print(f\"a == b: {a == b}\")"
   ]
  },
  {
   "cell_type": "markdown",
   "metadata": {},
   "source": [
    "Although this would be quite a strange scenario."
   ]
  }
 ],
 "metadata": {
  "kernelspec": {
   "display_name": "Python 3",
   "language": "python",
   "name": "python3"
  },
  "language_info": {
   "codemirror_mode": {
    "name": "ipython",
    "version": 3
   },
   "file_extension": ".py",
   "mimetype": "text/x-python",
   "name": "python",
   "nbconvert_exporter": "python",
   "pygments_lexer": "ipython3",
   "version": "3.7.5"
  }
 },
 "nbformat": 4,
 "nbformat_minor": 4
}
