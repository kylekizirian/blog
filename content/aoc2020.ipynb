{
 "cells": [
  {
   "cell_type": "markdown",
   "metadata": {},
   "source": [
    "> For a long time it puzzled me how something so expensive, so leading edge, could be so\n",
    "> useless, and then it occurred to me that a computer is a stupid machine with the ability\n",
    "> to do incredibly smart things, while computer programmers are smart people with the\n",
    "> ability to do incredibly stupid things. They are, in short, a perfect match.\n",
    ">\n",
    "> \\- Bill Bryson, I'm a Stranger Here Myself\n",
    "\n",
    "I'm a few weeks late but I've finally finished all 25 days of\n",
    "[Advent of Code 2020](https://adventofcode.com/2020). See my\n",
    "solutions [here](https://github.com/kylekizirian/aoc2020) where\n",
    "I've tried my best to provide explanations and comment my code well.\n",
    "\n",
    "AoC has taken up all of my spare coding time for the past 6\n",
    "weeks, I'd estimate  about 50 hours in total (and more coffee\n",
    "than I care to admit). My favorite thing about Advent of Code is\n",
    "the little things that I learn and pick up on the way so, in honor\n",
    "of that, here's a random collection of my thoughts and favorite\n",
    "things that I learned."
   ]
  },
  {
   "cell_type": "markdown",
   "metadata": {},
   "source": [
    "## `collections.defaultdict` ([day 7](https://github.com/kylekizirian/aoc2020/blob/master/day07/day7.ipynb))\n",
    "\n",
    "Python's `collections.defaultdict` provides a convenient way\n",
    "to handle missing keys when creating a dictionary. Say we want\n",
    "to take a list and build a dictionary that maps each value in\n",
    "the list to a list of indices where that value exists.\n",
    "\n",
    "With a regular dictionary you might do it as follows, by\n",
    "first checking whether the value is already in the dictionary\n",
    "and, if not, initializing it to an empty list."
   ]
  },
  {
   "cell_type": "code",
   "execution_count": 1,
   "metadata": {},
   "outputs": [
    {
     "data": {
      "text/plain": [
       "{1: [0], 2: [1, 3], 4: [2, 5], 5: [4]}"
      ]
     },
     "execution_count": 1,
     "metadata": {},
     "output_type": "execute_result"
    }
   ],
   "source": [
    "nums = [1, 2, 4, 2, 5, 4]\n",
    "\n",
    "num_to_indices = {}\n",
    "\n",
    "for index, num in enumerate(nums):\n",
    "    if num not in num_to_indices:\n",
    "        num_to_indices[num] = []\n",
    "\n",
    "    num_to_indices[num].append(index)\n",
    "\n",
    "num_to_indices"
   ]
  },
  {
   "cell_type": "markdown",
   "metadata": {},
   "source": [
    "Using a `defaultdict` does this exact thing for you. When a key is\n",
    "missing, it'll call the function that we've supplied and\n",
    "create an entry for the missing key. In our case, we'll\n",
    "supply the `list` function which returns an empty list\n",
    "when a missing key is encountered."
   ]
  },
  {
   "cell_type": "code",
   "execution_count": 2,
   "metadata": {},
   "outputs": [
    {
     "data": {
      "text/plain": [
       "defaultdict(list, {1: [0], 2: [1, 3], 4: [2, 5], 5: [4]})"
      ]
     },
     "execution_count": 2,
     "metadata": {},
     "output_type": "execute_result"
    }
   ],
   "source": [
    "from collections import defaultdict\n",
    "\n",
    "num_to_indices = defaultdict(list)\n",
    "\n",
    "for index, num in enumerate(nums):\n",
    "    num_to_indices[num].append(index)\n",
    "\n",
    "num_to_indices"
   ]
  },
  {
   "cell_type": "markdown",
   "metadata": {},
   "source": [
    "## Counting a boolean condition\n",
    "\n",
    "Python has a fun trick that's a bit confusing the\n",
    "first time you see it. When a boolean is used in an\n",
    "arithmetic expression, `True` is implicitly converted\n",
    "to `1` and `False` to `0`."
   ]
  },
  {
   "cell_type": "code",
   "execution_count": 3,
   "metadata": {},
   "outputs": [
    {
     "name": "stdout",
     "output_type": "stream",
     "text": [
      "1 + True  = 2\n",
      "1 + False = 1\n"
     ]
    }
   ],
   "source": [
    "print(f\"1 + True  = {1 + True}\")\n",
    "print(f\"1 + False = {1 + False}\")"
   ]
  },
  {
   "cell_type": "markdown",
   "metadata": {},
   "source": [
    "To count the number of elements that satisfy some condition,\n",
    "you can keep a counter and increment it with\n",
    "the result of a boolean expression. Below is a (slightly\n",
    "confusing) example to demonstrate.\n",
    "The expression `num % 2 == 0` is first evalauated to `True` or\n",
    "`False` and the result is added to the `num_evens` counter\n",
    "(i.e. 0 is added if the result is `False` and 1 is\n",
    "added if the result is `True`)."
   ]
  },
  {
   "cell_type": "code",
   "execution_count": 4,
   "metadata": {},
   "outputs": [
    {
     "data": {
      "text/plain": [
       "5"
      ]
     },
     "execution_count": 4,
     "metadata": {},
     "output_type": "execute_result"
    }
   ],
   "source": [
    "num_evens = 0\n",
    "for num in range(1, 11):\n",
    "    num_evens += num % 2 == 0\n",
    "\n",
    "num_evens"
   ]
  },
  {
   "cell_type": "markdown",
   "metadata": {},
   "source": [
    "Finally, an even more succinct version of this is\n",
    "a generator expression that returns `True` or `False`\n",
    "for each element and the built-in `sum` totals the\n",
    "number of `True` results."
   ]
  },
  {
   "cell_type": "code",
   "execution_count": 5,
   "metadata": {},
   "outputs": [
    {
     "data": {
      "text/plain": [
       "5"
      ]
     },
     "execution_count": 5,
     "metadata": {},
     "output_type": "execute_result"
    }
   ],
   "source": [
    "sum(num % 2 == 0 for num in range(1, 11))"
   ]
  },
  {
   "cell_type": "markdown",
   "metadata": {},
   "source": [
    "## `functools.partial` ([day 5](https://github.com/kylekizirian/aoc2020/blob/master/day05/day5.ipynb))\n",
    "\n",
    "`functools.partial` takes a function along with arguments and/or\n",
    "keyword arguments and returns a new function with those arguments\n",
    "fixed. For example, say we want a set of functions that takes a\n",
    "list of integers and counts how many integers fit some condition\n",
    "(i.e. how many are less than a given number, greater than a\n",
    "given number, or equal to a given number). We might write those\n",
    "functions like so:"
   ]
  },
  {
   "cell_type": "code",
   "execution_count": 6,
   "metadata": {},
   "outputs": [
    {
     "name": "stdout",
     "output_type": "stream",
     "text": [
      "# less than 5 on [0, 10)    = 5\n",
      "# greater than 5 on [0, 10) = 4\n",
      "# equal to 5 on [0, 10)     = 1\n"
     ]
    }
   ],
   "source": [
    "from typing import Callable, List\n",
    "\n",
    "def num_less_than(nums: List[int], val: int) -> int:\n",
    "    return sum(num < val for num in nums)\n",
    "\n",
    "def num_greater_than(nums: List[int], val: int) -> int:\n",
    "    return sum(num > val for num in nums)\n",
    "\n",
    "def num_equal_to(nums: List[int], val: int) -> int:\n",
    "    return sum(num == val for num in nums)\n",
    "\n",
    "print(f\"# less than 5 on [0, 10)    = {num_less_than(range(10), 5)}\")\n",
    "print(f\"# greater than 5 on [0, 10) = {num_greater_than(range(10), 5)}\")\n",
    "print(f\"# equal to 5 on [0, 10)     = {num_equal_to(range(10), 5)}\")"
   ]
  },
  {
   "cell_type": "markdown",
   "metadata": {},
   "source": [
    "This isn't bad, but all of those functions are identical\n",
    "except for the operator between `num` and `val`. And the\n",
    "amount of repeated code continues to grow with the more\n",
    "conditions we are interested in (say we become interested\n",
    "in counting integers less than or equal to, divisible by,\n",
    "or coprime with a given integer).\n",
    "\n",
    "Indeed, we can write a single generic function which takes\n",
    "a comparison between `num` and `val` and use that along\n",
    "with `functools.partial` to generate all of the above\n",
    "functions more succinctly."
   ]
  },
  {
   "cell_type": "code",
   "execution_count": 7,
   "metadata": {},
   "outputs": [
    {
     "name": "stdout",
     "output_type": "stream",
     "text": [
      "# less than 5 on [0, 10)    = 5\n",
      "# greater than 5 on [0, 10) = 4\n",
      "# equal to 5 on [0, 10)     = 1\n"
     ]
    }
   ],
   "source": [
    "from functools import partial\n",
    "from operator import eq, gt, lt\n",
    "\n",
    "def num_matching_condition(nums: List[int], val: int, condition: Callable):\n",
    "    return sum(condition(num, val) for num in nums)\n",
    "\n",
    "num_less_than = partial(num_matching_condition, condition=lt)\n",
    "num_greater_than = partial(num_matching_condition, condition=gt)\n",
    "num_equal_to = partial(num_matching_condition, condition=eq)\n",
    "\n",
    "print(f\"# less than 5 on [0, 10)    = {num_less_than(range(10), 5)}\")\n",
    "print(f\"# greater than 5 on [0, 10) = {num_greater_than(range(10), 5)}\")\n",
    "print(f\"# equal to 5 on [0, 10)     = {num_equal_to(range(10), 5)}\")"
   ]
  },
  {
   "cell_type": "markdown",
   "metadata": {},
   "source": [
    "## The Walrus operator ([day 14](https://github.com/kylekizirian/aoc2020/blob/master/day14/day14.ipynb) and [day 16](https://github.com/kylekizirian/aoc2020/blob/master/day16/day16.ipynb))\n",
    "\n",
    "This was my first time using the controversial\n",
    "[Walrus operator](https://www.youtube.com/watch?v=KN2TTiGpDvM)\n",
    "to create assignment expressions in places where assignment\n",
    "wasn't previously allowed. I found this useful when checking\n",
    "for a regular expression match and then using the resulting\n",
    "[Match object](https://docs.python.org/3/library/re.html#match-objects).\n",
    "\n",
    "Say we want to take a list of names, find the names where\n",
    "both the first and last name start with `S`, and print\n",
    "the last name."
   ]
  },
  {
   "cell_type": "code",
   "execution_count": 8,
   "metadata": {},
   "outputs": [],
   "source": [
    "import re\n",
    "pattern = re.compile(\"S\\w+\\s(S\\w+)\")\n",
    "\n",
    "names = [\n",
    "    \"SpongeBob SquarePants\",\n",
    "    \"Patrick Star\",\n",
    "    \"Squidward Tentacles\"\n",
    "]"
   ]
  },
  {
   "cell_type": "markdown",
   "metadata": {},
   "source": [
    "Without the walrus operator, we first compute `re.fullmatch`, assign\n",
    "the result to `match`, check if a match occurred and, if so, print\n",
    "the first capturing group (the last name)."
   ]
  },
  {
   "cell_type": "code",
   "execution_count": 9,
   "metadata": {},
   "outputs": [
    {
     "name": "stdout",
     "output_type": "stream",
     "text": [
      "SquarePants\n"
     ]
    }
   ],
   "source": [
    "for name in names:\n",
    "    match = re.fullmatch(pattern, name)\n",
    "    if match:\n",
    "        print(match.group(1))"
   ]
  },
  {
   "cell_type": "markdown",
   "metadata": {},
   "source": [
    "The assignment expression condenses assigning the result of `re.fullmatch`\n",
    "and checking its truthiness into a single line. `match` is first\n",
    "assigned and then its value is returned and evaluated in the `if` statement."
   ]
  },
  {
   "cell_type": "code",
   "execution_count": 10,
   "metadata": {},
   "outputs": [
    {
     "name": "stdout",
     "output_type": "stream",
     "text": [
      "SquarePants\n"
     ]
    }
   ],
   "source": [
    "for name in names:\n",
    "    if match := re.fullmatch(pattern, name):\n",
    "        print(match.group(1))"
   ]
  },
  {
   "cell_type": "markdown",
   "metadata": {},
   "source": [
    "This example is hardly earth-shattering but\n",
    "[this Real Python article](https://realpython.com/lessons/assignment-expressions/)\n",
    "provides a range of examples where assignment expressions can save\n",
    "repeated computations in list comprehensions."
   ]
  },
  {
   "cell_type": "markdown",
   "metadata": {},
   "source": [
    "## `itertools.product` ([day 17](https://github.com/kylekizirian/aoc2020/blob/master/day17/day17.ipynb))\n",
    "\n",
    "`itertools.product` has something of a niche use case but it\n",
    "has the power to greatly simplify some unseemly nested for-loops. From\n",
    "[the documentation](https://docs.python.org/3/library/itertools.html#itertools.product):\n",
    "\n",
    "```python\n",
    "product(A, B)\n",
    "```\n",
    "\n",
    "Is equivalent to the generator expression:\n",
    "\n",
    "```python\n",
    "((x, y) for x in A for y in B)\n",
    "```\n",
    "\n",
    "For example, say we want all Cartesian coordinates on `[0, 2]`,\n",
    "i.e. `(0, 0), (0, 1), (0, 2), (1, 0)...`, then we could generate\n",
    "them like so:"
   ]
  },
  {
   "cell_type": "code",
   "execution_count": 11,
   "metadata": {},
   "outputs": [
    {
     "data": {
      "text/plain": [
       "[(0, 0), (0, 1), (0, 2), (1, 0), (1, 1), (1, 2), (2, 0), (2, 1), (2, 2)]"
      ]
     },
     "execution_count": 11,
     "metadata": {},
     "output_type": "execute_result"
    }
   ],
   "source": [
    "[(x, y) for x in range(3) for y in range(3)]"
   ]
  },
  {
   "cell_type": "markdown",
   "metadata": {},
   "source": [
    "Equivalently, we can write this using `product` as follows:"
   ]
  },
  {
   "cell_type": "code",
   "execution_count": 12,
   "metadata": {},
   "outputs": [
    {
     "data": {
      "text/plain": [
       "[(0, 0), (0, 1), (0, 2), (1, 0), (1, 1), (1, 2), (2, 0), (2, 1), (2, 2)]"
      ]
     },
     "execution_count": 12,
     "metadata": {},
     "output_type": "execute_result"
    }
   ],
   "source": [
    "from itertools import product\n",
    "list(product(range(3), range(3)))"
   ]
  },
  {
   "cell_type": "markdown",
   "metadata": {},
   "source": [
    "This is only a modest improvement in 2-dimensions but becomes\n",
    "incredibly useful in 3, 4, and higher dimensions where writing\n",
    "triple and quadruple nested for-loops becomes fraught. Using\n",
    "`itertools.product` allowed me to write a generic\n",
    "[Conway's Game of Life](https://en.wikipedia.org/wiki/Conway%27s_Game_of_Life)\n",
    "simulator for any number of dimensions to solve\n",
    "[day 17](https://github.com/kylekizirian/aoc2020/blob/master/day17/day17.ipynb)\n",
    "which had you run simulations in 3 and 4-dimensions."
   ]
  },
  {
   "cell_type": "markdown",
   "metadata": {},
   "source": [
    "## Dynamic programming ([day 10](https://github.com/kylekizirian/aoc2020/blob/master/day10/day10.ipynb))\n",
    "\n",
    "Dubbed one of the \"_sledgehammers_ of the algorithms craft\" by\n",
    "[my favorite algorithms text](https://www.amazon.com/Algorithms-Sanjoy-Dasgupta/dp/0073523402),\n",
    "dynamic programming is a technique for combining the results of\n",
    "subproblems to compute the result of a larger problem. With\n",
    "dynamic programming, you start by solving the smallest subproblems\n",
    "first and using their results to build up to the solution for\n",
    "the goal problem.\n",
    "\n",
    "[Day 10 part 2](https://github.com/kylekizirian/aoc2020/blob/master/day10/day10.ipynb)\n",
    "asks us a question equivalent to this:\n",
    "\n",
    "> You are given a list of unique sorted integers where each\n",
    "> adjacent integer differs by at most 3. Starting at the first\n",
    "> (and smallest) element in the list, you can move to an integer\n",
    "> that is 1, 2, or 3 larger than the current integer. How many\n",
    "> different paths can you take from the first element to the last?\n",
    "\n",
    "The trick to solving this is that to get to any given integer,\n",
    "you must have come from an integer that is 1, 2, or 3 less than\n",
    "the current one. That means that the number of ways to get to the\n",
    "current integer is the sum of the number of ways to get to the\n",
    "integers that are 1, 2, or 3 less than the current one. Thus, if\n",
    "we know the solutions to `n-1`, `n-2`, and `n-3`, then we know\n",
    "the solution to `n`.\n",
    "\n",
    "We start with the smallest subproblem, there is only 1 way\n",
    "to get to the very first integer (because it's our starting point).\n",
    "For all subsequent integers, we look back at all integers that differ\n",
    "by less than or equal to 3 and sum the number of ways to get to all\n",
    "of those."
   ]
  },
  {
   "cell_type": "code",
   "execution_count": 13,
   "metadata": {},
   "outputs": [
    {
     "data": {
      "text/plain": [
       "[2, 2, 4, 6, 10, 16, 26, 42, 68, 110, 178]"
      ]
     },
     "execution_count": 13,
     "metadata": {},
     "output_type": "execute_result"
    }
   ],
   "source": [
    "elements = [1, 2, 4, 5, 6, 8, 9, 10, 12, 13, 15]\n",
    "\n",
    "num_paths = [0] * len(elements)\n",
    "num_paths[0] = 1  # initialize smallest subproblem\n",
    "\n",
    "for cur_index, cur_element in enumerate(elements):\n",
    "    # look backwards at the subproblems that have already\n",
    "    # been solved\n",
    "    for prev_index in range(cur_index, -1, -1):\n",
    "        prev_element = elements[prev_index]\n",
    "\n",
    "        # because the elements are in sorted order, when\n",
    "        # we've reached an element that differs by more\n",
    "        # than 3, we can quit looking back\n",
    "        if cur_element - prev_element > 3:\n",
    "            break\n",
    "\n",
    "        # sum the number of ways to get to a previous element\n",
    "        num_paths[cur_index] += num_paths[prev_index]\n",
    "\n",
    "num_paths"
   ]
  },
  {
   "cell_type": "markdown",
   "metadata": {},
   "source": [
    "Dynamic programming is widely applicable and famously used to\n",
    "compute [edit distance](https://en.wikipedia.org/wiki/Edit_distance),\n",
    "solve the [knapsack problem](https://en.wikipedia.org/wiki/Knapsack_problem),\n",
    "and compute\n",
    "[Fibonacci numbers](https://en.wikipedia.org/wiki/Dynamic_programming#Fibonacci_sequence),\n",
    "but it's also a notoriously difficult concept to understand.\n",
    "I read several texts and solved dozens of exercises before I even\n",
    "felt like I had a small grasp on it.\n",
    "I highly recommend the textbook linked above as well as\n",
    "[Jeff Erickson's chapter on dynamic programming](http://jeffe.cs.illinois.edu/teaching/algorithms/book/03-dynprog.pdf)\n",
    "for more reading."
   ]
  },
  {
   "cell_type": "markdown",
   "metadata": {},
   "source": [
    "## Named capturing groups ([day 14](https://github.com/kylekizirian/aoc2020/blob/master/day14/day14.ipynb))\n",
    "\n",
    "Python adds a small readability enhancement to the\n",
    "notoriously-difficult-to-comprehend regular expression patterns.\n",
    "Python allows you to\n",
    "[name capturing groups](https://docs.python.org/3/howto/regex.html#non-capturing-and-named-groups)\n",
    "and then retrieve them\n",
    "by name from a [Match object](https://docs.python.org/3/library/re.html#match-objects).\n",
    "\n",
    "Traditionally, capturing groups are referred to by number, starting\n",
    "at 1 and incrementing in the order that they appear. Take the example\n",
    "above where we search through names for first and last names starting\n",
    "with `S` and print the first and last name."
   ]
  },
  {
   "cell_type": "code",
   "execution_count": 14,
   "metadata": {},
   "outputs": [
    {
     "name": "stdout",
     "output_type": "stream",
     "text": [
      "First name: SpongeBob\n",
      "Last name:  SquarePants\n"
     ]
    }
   ],
   "source": [
    "names = [\n",
    "    \"SpongeBob SquarePants\",\n",
    "    \"Patrick Star\",\n",
    "    \"Squidward Tentacles\"\n",
    "]\n",
    "\n",
    "pattern = re.compile(\"(S\\w+)\\s(S\\w+)\")\n",
    "\n",
    "for name in names:\n",
    "    if match := re.fullmatch(pattern, name):\n",
    "        print(f\"First name: {match.group(1)}\")\n",
    "        print(f\"Last name:  {match.group(2)}\")"
   ]
  },
  {
   "cell_type": "markdown",
   "metadata": {},
   "source": [
    "Named capturing groups take the form `(?P<NAME>)` and allow us to\n",
    "refer to the capturing group by a given name, rather than simply\n",
    "by number."
   ]
  },
  {
   "cell_type": "code",
   "execution_count": 15,
   "metadata": {},
   "outputs": [
    {
     "name": "stdout",
     "output_type": "stream",
     "text": [
      "First name: SpongeBob\n",
      "Last name:  SquarePants\n"
     ]
    }
   ],
   "source": [
    "pattern = re.compile(\"(?P<FIRST>S\\w+)\\s(?P<LAST>S\\w+)\")\n",
    "\n",
    "for name in names:\n",
    "    if match := re.fullmatch(pattern, name):\n",
    "        print(f\"First name: {match.group('FIRST')}\")\n",
    "        print(f\"Last name:  {match.group('LAST')}\")"
   ]
  },
  {
   "cell_type": "markdown",
   "metadata": {},
   "source": [
    "## Parting thoughts\n",
    "\n",
    "A huge thanks to the\n",
    "[Advent of Code team](https://adventofcode.com/2020/about)\n",
    "for an awesome year, I'm in awe at the amount work that must\n",
    "go into coming up with such clever problems, generating\n",
    "unique inputs, and maintaining a great community. Also a big\n",
    "thank you to the\n",
    "[r/adventofcode community](https://www.reddit.com/r/adventofcode)\n",
    "as well, it was fun to see a range of solutions and neat\n",
    "visualizations for each day's problem. It's super\n",
    "cool to see a friendly and encouraging community spring up\n",
    "around a set of problem solving challenges and I look\n",
    "forward to participating in more of these in the future."
   ]
  }
 ],
 "metadata": {
  "kernelspec": {
   "display_name": "Python 3.8",
   "language": "python",
   "name": "python38"
  },
  "language_info": {
   "codemirror_mode": {
    "name": "ipython",
    "version": 3
   },
   "file_extension": ".py",
   "mimetype": "text/x-python",
   "name": "python",
   "nbconvert_exporter": "python",
   "pygments_lexer": "ipython3",
   "version": "3.8.5"
  }
 },
 "nbformat": 4,
 "nbformat_minor": 4
}
