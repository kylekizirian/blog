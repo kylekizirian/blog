{
 "cells": [
  {
   "cell_type": "markdown",
   "metadata": {},
   "source": [
    "[tokei](https://github.com/XAMPPRocky/tokei) is a neat tool for\n",
    "providing statistics on a codebase. Let's look at it run over\n",
    "the source code of git."
   ]
  },
  {
   "cell_type": "code",
   "execution_count": 1,
   "metadata": {},
   "outputs": [],
   "source": [
    "import json\n",
    "import re\n",
    "import subprocess\n",
    "from pathlib import Path"
   ]
  },
  {
   "cell_type": "code",
   "execution_count": 2,
   "metadata": {},
   "outputs": [],
   "source": [
    "git_repo = Path.home() / \"code\" / \"git\""
   ]
  },
  {
   "cell_type": "code",
   "execution_count": 3,
   "metadata": {},
   "outputs": [
    {
     "name": "stdout",
     "output_type": "stream",
     "text": [
      "===============================================================================\n",
      " Language            Files        Lines         Code     Comments       Blanks\n",
      "===============================================================================\n",
      " ASP.NET                 9         1083          942            0          141\n",
      " GNU Style Assembly      1          224           98          100           26\n",
      " Autoconf                9          128          108            3           17\n",
      " BASH                    1         3585         2866          431          288\n",
      " Batch                   3          287          117          118           52\n",
      " C                     475       284504       220346        29119        35039\n",
      " C Header              228        36873        18580        13629         4664\n",
      " CMake                   1          988          779           50          159\n",
      " CSS                     2          982          783           30          169\n",
      " Emacs Lisp              2           12           12            0            0\n",
      " Go                      4          558          421           84           53\n",
      " JavaScript              3         1065          513          411          141\n",
      " Makefile               23         5191         3681          799          711\n",
      " Markdown                4          347            0          262           85\n",
      " Perl                   49        14057        11029         1183         1845\n",
      " Python                  4         9116         7047          690         1379\n",
      " ReStructuredText        6         1142          892            0          250\n",
      " Ruby                    1           48           43            0            5\n",
      " Shell                1127       261148       223343        11951        25854\n",
      " TCL                     1           29           25            0            4\n",
      " Plain Text            750       109999            0        86528        23471\n",
      " XSL                     6           95           68           16           11\n",
      " Zsh                     1          246          191           18           37\n",
      "===============================================================================\n",
      " Total                2710       731707       491884       145422        94401\n",
      "===============================================================================\n",
      "\n"
     ]
    }
   ],
   "source": [
    "tokei_run = subprocess.run(\n",
    "    [\"tokei\"],\n",
    "    cwd=git_repo,\n",
    "    stdout=subprocess.PIPE,\n",
    "    encoding=\"utf-8\",\n",
    ")\n",
    "print(tokei_run.stdout)"
   ]
  },
  {
   "cell_type": "markdown",
   "metadata": {},
   "source": [
    "It's rather amazing that the source code contains nearly\n",
    "300,000 lines of C code and just as many lines of shell scripts.\n",
    "It's also interesting to consider how that's changed over\n",
    "time. We can look at this by analyzing each version of git and\n",
    "plotting its growth.\n",
    "\n",
    "Let's start by looking at the tags in git's history with the\n",
    "`git tag` command. "
   ]
  },
  {
   "cell_type": "code",
   "execution_count": 4,
   "metadata": {},
   "outputs": [],
   "source": [
    "git_tag = subprocess.run(\n",
    "    [\"git\", \"tag\"],\n",
    "    cwd=git_repo,\n",
    "    stdout=subprocess.PIPE,\n",
    "    encoding=\"utf-8\",\n",
    ")\n",
    "tags = git_tag.stdout.split(\"\\n\")"
   ]
  },
  {
   "cell_type": "markdown",
   "metadata": {},
   "source": [
    "Analyzing the tags shows a few things in the raw tag output\n",
    "that we'd like to fix. One is that there are a number of tags\n",
    "for gitgui versions that we're not really interested in."
   ]
  },
  {
   "cell_type": "code",
   "execution_count": 5,
   "metadata": {},
   "outputs": [
    {
     "data": {
      "text/plain": [
       "['gitgui-0.10.0', 'gitgui-0.10.1', 'gitgui-0.10.2']"
      ]
     },
     "execution_count": 5,
     "metadata": {},
     "output_type": "execute_result"
    }
   ],
   "source": [
    "tags[:3]"
   ]
  },
  {
   "cell_type": "markdown",
   "metadata": {},
   "source": [
    "Another thing that we'll want to fix is that git tags are printed in\n",
    "alphanumeric order, which means that the tag v2.19 comes before v2.2\n",
    "even though it's a later version number."
   ]
  },
  {
   "cell_type": "code",
   "execution_count": 6,
   "metadata": {},
   "outputs": [
    {
     "data": {
      "text/plain": [
       "['v2.19.3', 'v2.19.4', 'v2.19.5', 'v2.2.0', 'v2.2.0-rc0']"
      ]
     },
     "execution_count": 6,
     "metadata": {},
     "output_type": "execute_result"
    }
   ],
   "source": [
    "tags[619:624]"
   ]
  },
  {
   "cell_type": "markdown",
   "metadata": {},
   "source": [
    "`git tag` provides two handy switches to resolve this. The first is\n",
    "`--list pattern` which only lists tags that match the given pattern.\n",
    "The pattern `v[0-9].[0-9]*.0` only matches tags that start with a v,\n",
    "followed by a single digit, followed by a period, followed by one or more\n",
    "digits, followed by a period, and ending with a 0.\n",
    "\n",
    "The second handy switch is a `--sort=version:refname` which will sort\n",
    "the tags such that `v2.19` comes after `v2.2`."
   ]
  },
  {
   "cell_type": "code",
   "execution_count": 7,
   "metadata": {},
   "outputs": [
    {
     "name": "stdout",
     "output_type": "stream",
     "text": [
      "['v1.0.0', 'v1.1.0', 'v1.2.0', 'v1.3.0', 'v1.4.0', 'v1.5.0', 'v1.6.0', 'v1.7.0', 'v1.8.0', 'v1.9.0', 'v2.0.0', 'v2.1.0', 'v2.2.0', 'v2.3.0', 'v2.4.0', 'v2.5.0', 'v2.6.0', 'v2.7.0', 'v2.8.0', 'v2.9.0', 'v2.10.0', 'v2.11.0', 'v2.12.0', 'v2.13.0', 'v2.14.0', 'v2.15.0', 'v2.16.0', 'v2.17.0', 'v2.18.0', 'v2.19.0', 'v2.20.0', 'v2.21.0', 'v2.22.0', 'v2.23.0', 'v2.24.0', 'v2.25.0', 'v2.26.0', 'v2.27.0', 'v2.28.0', 'v2.29.0']\n"
     ]
    }
   ],
   "source": [
    "git_tag = subprocess.run(\n",
    "    [\n",
    "        \"git\", \"tag\", \"--list\", 'v[0-9].[0-9]*.0',\n",
    "        \"--sort=version:refname\"\n",
    "    ],\n",
    "    cwd=git_repo,\n",
    "    stdout=subprocess.PIPE,\n",
    "    encoding=\"utf-8\",\n",
    ")\n",
    "# this call mysteriously adds a blank line at the end\n",
    "# which we remove by taking everything except for\n",
    "# the last element\n",
    "tags = git_tag.stdout.split(\"\\n\")[:-1]\n",
    "print(tags)"
   ]
  },
  {
   "cell_type": "markdown",
   "metadata": {},
   "source": [
    "Now that we've got all versions captured in order, let's run tokei\n",
    "over v1.0.0 and see what git looked like at the time."
   ]
  },
  {
   "cell_type": "code",
   "execution_count": 8,
   "metadata": {},
   "outputs": [
    {
     "name": "stdout",
     "output_type": "stream",
     "text": [
      "===============================================================================\n",
      " Language            Files        Lines         Code     Comments       Blanks\n",
      "===============================================================================\n",
      " GNU Style Assembly      2          369          274           48           47\n",
      " Autoconf                1          188          152            2           34\n",
      " C                     111        32617        26384         2664         3569\n",
      " C Header               25         1424          948          219          257\n",
      " Makefile                4          687          451          116          120\n",
      " Perl                    1           69           60            1            8\n",
      " Python                  3         2333         2035           80          218\n",
      " Shell                 107        16366        13595         1163         1608\n",
      " Plain Text            127        13434            0        10313         3121\n",
      "===============================================================================\n",
      " Total                 381        67487        43899        14606         8982\n",
      "===============================================================================\n",
      "\n"
     ]
    }
   ],
   "source": [
    "subprocess.run(\n",
    "    [\"git\", \"checkout\", tags[0]],\n",
    "    cwd=git_repo,\n",
    "    encoding=\"utf-8\",\n",
    "    check=True\n",
    ")\n",
    "tokei = subprocess.run(\n",
    "    [\"tokei\"],\n",
    "    cwd=git_repo,\n",
    "    stdout=subprocess.PIPE,\n",
    "    encoding=\"utf-8\"\n",
    ")\n",
    "print(tokei.stdout)"
   ]
  },
  {
   "cell_type": "markdown",
   "metadata": {},
   "source": [
    "26,000 lines of C and nearly 15,000 lines of shell scripts are\n",
    "nothing to sneeze at, but let's look again at the statistics\n",
    "of git today."
   ]
  },
  {
   "cell_type": "code",
   "execution_count": 9,
   "metadata": {},
   "outputs": [
    {
     "name": "stdout",
     "output_type": "stream",
     "text": [
      "===============================================================================\n",
      " Language            Files        Lines         Code     Comments       Blanks\n",
      "===============================================================================\n",
      " ASP.NET                 9         1083          942            0          141\n",
      " GNU Style Assembly      1          224           98          100           26\n",
      " Autoconf                9          128          108            3           17\n",
      " BASH                    1         3585         2866          431          288\n",
      " Batch                   3          287          117          118           52\n",
      " C                     475       284504       220346        29119        35039\n",
      " C Header              228        36873        18580        13629         4664\n",
      " CMake                   1          988          779           50          159\n",
      " CSS                     2          982          783           30          169\n",
      " Emacs Lisp              2           12           12            0            0\n",
      " Go                      4          558          421           84           53\n",
      " JavaScript              3         1065          513          411          141\n",
      " Makefile               23         5191         3681          799          711\n",
      " Markdown                4          347            0          262           85\n",
      " Perl                   49        14057        11029         1183         1845\n",
      " Python                  4         9116         7047          690         1379\n",
      " ReStructuredText        6         1142          892            0          250\n",
      " Ruby                    1           48           43            0            5\n",
      " Shell                1127       261148       223343        11951        25854\n",
      " TCL                     1           29           25            0            4\n",
      " Plain Text            750       109999            0        86528        23471\n",
      " XSL                     6           95           68           16           11\n",
      " Zsh                     1          246          191           18           37\n",
      "===============================================================================\n",
      " Total                2710       731707       491884       145422        94401\n",
      "===============================================================================\n",
      "\n"
     ]
    }
   ],
   "source": [
    "subprocess.run(\n",
    "    [\"git\", \"checkout\", tags[-1]],\n",
    "    cwd=git_repo,\n",
    "    encoding=\"utf-8\",\n",
    "    check=True,\n",
    ")\n",
    "tokei = subprocess.run(\n",
    "    [\"tokei\"],\n",
    "    cwd=git_repo,\n",
    "    stdout=subprocess.PIPE,\n",
    "    encoding=\"utf-8\"\n",
    ")\n",
    "print(tokei.stdout)"
   ]
  },
  {
   "cell_type": "markdown",
   "metadata": {},
   "source": [
    "At 280,000 lines of C and 260,000 lines of shell scripts, git has\n",
    "grown to over ten times the size of its original release in 2005!\n",
    "\n",
    "Finally, let's use [seaborn](https://seaborn.pydata.org/) to visualize\n",
    "git's growth over time. We'll check out each version one by one, run\n",
    "`tokei --output json`, and store the number of lines of C code in each\n",
    "version."
   ]
  },
  {
   "cell_type": "code",
   "execution_count": 10,
   "metadata": {},
   "outputs": [],
   "source": [
    "line_lens = []\n",
    "\n",
    "for tag in tags:\n",
    "    subprocess.run(\n",
    "        [\"git\", \"checkout\", tag],\n",
    "        cwd=git_repo,\n",
    "        encoding=\"utf-8\",\n",
    "    )\n",
    "    tokei = subprocess.run(\n",
    "        [\"tokei\", \"--output\", \"json\"],\n",
    "        cwd=git_repo,\n",
    "        stdout=subprocess.PIPE,\n",
    "        encoding=\"utf-8\"\n",
    "    )\n",
    "    tokei_json = json.loads(tokei.stdout)\n",
    "    c_lines = tokei_json[\"C\"][\"code\"]\n",
    "    line_lens.append(c_lines)"
   ]
  },
  {
   "cell_type": "markdown",
   "metadata": {},
   "source": [
    "We'll plot the tags on the x-axis (only displaying every 5th tag\n",
    "for space) and the number of lines of C code on the y-axis to see\n",
    "the rate at which git's codebase has grown by version."
   ]
  },
  {
   "cell_type": "code",
   "execution_count": 11,
   "metadata": {},
   "outputs": [],
   "source": [
    "import seaborn as sns"
   ]
  },
  {
   "cell_type": "code",
   "execution_count": 12,
   "metadata": {},
   "outputs": [
    {
     "data": {
      "image/png": "[encoded data removed]",
      "text/plain": [
       "<Figure size 432x288 with 1 Axes>"
      ]
     },
     "metadata": {
      "needs_background": "light"
     },
     "output_type": "display_data"
    }
   ],
   "source": [
    "plt = sns.scatterplot(x=tags, y=line_lens)\n",
    "for ind, label in enumerate(plt.get_xticklabels()):\n",
    "    if ind % 5 == 0:  # every 5th label is kept\n",
    "        label.set_visible(True)\n",
    "    else:\n",
    "        label.set_visible(False)"
   ]
  }
 ],
 "metadata": {
  "kernelspec": {
   "display_name": "Python 3.7.5 64-bit ('math': conda)",
   "language": "python",
   "name": "python37564bitmathconda3c1422069eaf4c3f9b49eaa87ff9aec1"
  },
  "language_info": {
   "codemirror_mode": {
    "name": "ipython",
    "version": 3
   },
   "file_extension": ".py",
   "mimetype": "text/x-python",
   "name": "python",
   "nbconvert_exporter": "python",
   "pygments_lexer": "ipython3",
   "version": "3.7.7"
  }
 },
 "nbformat": 4,
 "nbformat_minor": 4
}
