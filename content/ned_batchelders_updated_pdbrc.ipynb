{
 "cells": [
  {
   "cell_type": "markdown",
   "metadata": {},
   "source": [
    "The great\n",
    "[Ned Batchelder's .pdbrc](https://nedbatchelder.com/blog/200704/my_pdbrc.html)\n",
    "has a bunch of helpful debugging aliases. Ned's post, from \n",
    "2007, uses Python 2 syntax which I've updated and tweaked slightly below\n",
    "to use Python 3 syntax and the more modern f-strings for printing. F-strings\n",
    "were introduced in Python 3.6 so this won't work in earlier versions. If using\n",
    "Python <= 3.5, you can simply update Ned's original `alias p_` line to\n",
    "place parantheses around the print statement.  \n",
    "\n",
    "```python\n",
    "# Ned's .pdbrc (updated)\n",
    "\n",
    "# Print a dictionary, sorted. %1 is the dict, %2 is the prefix for the names.\n",
    "alias p_ for k in sorted(%1.keys()): print(f\"%2{k.ljust(max(len(s) for s in %1.keys()))} = {%1[k]}\")\n",
    "\n",
    "# Print the member variables of a thing.\n",
    "alias pi p_ %1.__dict__ %1.\n",
    "\n",
    "# Print the member variables of self.\n",
    "alias ps pi self\n",
    "\n",
    "# Print the locals.\n",
    "alias pl p_ locals() local:\n",
    "\n",
    "# Next and list, and step and list.\n",
    "alias nl n;;l\n",
    "alias sl s;;l\n",
    "```\n",
    "\n",
    "I'll walk through how the aliases work at the end, but first\n",
    "check out a few examples. Place the above at `~/.pdbrc` and try them out.\n",
    "\n",
    "## Print local variables with _pl_"
   ]
  },
  {
   "cell_type": "code",
   "execution_count": 1,
   "metadata": {},
   "outputs": [
    {
     "name": "stdout",
     "output_type": "stream",
     "text": [
      "> <ipython-input-1-2349524cd9c1>(3)add()\n",
      "-> return a + b\n"
     ]
    },
    {
     "name": "stdin",
     "output_type": "stream",
     "text": [
      "(Pdb)  pl\n"
     ]
    },
    {
     "name": "stdout",
     "output_type": "stream",
     "text": [
      "local:a = 1\n",
      "local:b = 2\n"
     ]
    },
    {
     "name": "stdin",
     "output_type": "stream",
     "text": [
      "(Pdb)  c\n"
     ]
    }
   ],
   "source": [
    "def add(a, b):\n",
    "    breakpoint()\n",
    "    return a + b\n",
    "\n",
    "result = add(1, 2)"
   ]
  },
  {
   "cell_type": "markdown",
   "metadata": {},
   "source": [
    "## Print the attributes of an object with _pi_"
   ]
  },
  {
   "cell_type": "code",
   "execution_count": 2,
   "metadata": {},
   "outputs": [
    {
     "name": "stdout",
     "output_type": "stream",
     "text": [
      "> <ipython-input-2-5552f62a4e0e>(9)random_lat_long()\n",
      "-> return lat_long\n"
     ]
    },
    {
     "name": "stdin",
     "output_type": "stream",
     "text": [
      "(Pdb)  pi lat_long\n"
     ]
    },
    {
     "name": "stdout",
     "output_type": "stream",
     "text": [
      "lat_long.latitude  = -52.22043390873424\n",
      "lat_long.longitude = -97.64413970548634\n"
     ]
    },
    {
     "name": "stdin",
     "output_type": "stream",
     "text": [
      "(Pdb)  c\n"
     ]
    }
   ],
   "source": [
    "from random import uniform\n",
    "from types import SimpleNamespace\n",
    "\n",
    "def random_lat_long():\n",
    "    lat_ = uniform(-90, 90)\n",
    "    long_ = uniform(-180, 180)\n",
    "    lat_long = SimpleNamespace(latitude=lat_, longitude=long_)\n",
    "    breakpoint()\n",
    "    return lat_long\n",
    "\n",
    "lat_long = random_lat_long()"
   ]
  },
  {
   "cell_type": "markdown",
   "metadata": {},
   "source": [
    "## Print the attributes of self with _ps_"
   ]
  },
  {
   "cell_type": "code",
   "execution_count": 3,
   "metadata": {},
   "outputs": [
    {
     "name": "stdout",
     "output_type": "stream",
     "text": [
      "--Return--\n",
      "> <ipython-input-3-4594f993075e>(6)__init__()->None\n",
      "-> breakpoint()\n"
     ]
    },
    {
     "name": "stdin",
     "output_type": "stream",
     "text": [
      "(Pdb)  ps\n"
     ]
    },
    {
     "name": "stdout",
     "output_type": "stream",
     "text": [
      "self.eulers_number = 2.718\n",
      "self.pi            = 3.14\n"
     ]
    },
    {
     "name": "stdin",
     "output_type": "stream",
     "text": [
      "(Pdb)  c\n"
     ]
    }
   ],
   "source": [
    "class AwesomeNumbers:\n",
    "\n",
    "    def __init__(self):\n",
    "        self.pi = 3.14\n",
    "        self.eulers_number = 2.718\n",
    "        breakpoint()\n",
    "\n",
    "awesome_numbers = AwesomeNumbers()"
   ]
  },
  {
   "cell_type": "markdown",
   "metadata": {},
   "source": [
    "## How it works\n",
    "\n",
    "Most of the heavy lifting is done in the `alias p_` line. Here's a function that\n",
    "does the same thing, but broken up for readability."
   ]
  },
  {
   "cell_type": "code",
   "execution_count": 4,
   "metadata": {},
   "outputs": [
    {
     "name": "stdout",
     "output_type": "stream",
     "text": [
      "awesome_numbers.eulers_number = 2.718\n",
      "awesome_numbers.pi            = 3.14\n"
     ]
    }
   ],
   "source": [
    "def p_(dict_, prefix):\n",
    "    # find the length of the longest key in the dictionary\n",
    "    max_key_len = max(len(key) for key in dict_.keys())\n",
    "\n",
    "    for key in sorted(dict_.keys()):\n",
    "        value = dict_[key]\n",
    "        # adjust width of the key's string to the length of\n",
    "        # the longest key\n",
    "        key_repr = key.ljust(max_key_len)\n",
    "        value = dict_[key]\n",
    "        print(f\"{prefix}{key_repr} = {value}\")\n",
    "\n",
    "awesome_numbers = {\"pi\": 3.14, \"eulers_number\": 2.718}\n",
    "p_(dict_=awesome_numbers, prefix=\"awesome_numbers.\")"
   ]
  },
  {
   "cell_type": "markdown",
   "metadata": {},
   "source": [
    "To build on this, the `pl` alias calls `p_` with the handy `locals()` built-in,\n",
    "which stores a dictionary containing variables on the stack.\n",
    "\n",
    "The `pi` and `ps` command build on `p_` by passing an object's `__dict__`\n",
    "attribute which stores the object's named attributes. For example"
   ]
  },
  {
   "cell_type": "code",
   "execution_count": 5,
   "metadata": {},
   "outputs": [
    {
     "name": "stdout",
     "output_type": "stream",
     "text": [
      "awesome_numbers.eulers_number = 2.718\n",
      "awesome_numbers.pi            = 3.14\n"
     ]
    }
   ],
   "source": [
    "awesome_numbers = SimpleNamespace(pi=3.14, eulers_number=2.718)\n",
    "p_(awesome_numbers.__dict__, \"awesome_numbers.\")"
   ]
  },
  {
   "cell_type": "markdown",
   "metadata": {},
   "source": [
    "## Changes from Ned's pdbrc\n",
    "\n",
    "The only change that I've made is from this line in Ned's `.pdbrc`\n",
    "\n",
    "```python\n",
    "alias p_ for k in sorted(%1.keys()): print \"%s%-15s= %-80.80s\" % (\"%2\",k,repr(%1[k]))\n",
    "```\n",
    "\n",
    "This line uses Python 2's `print` syntax, but it also uses the\n",
    "older `%` formatting to fix the width of the key's name to\n",
    "a constant 15-characters. A modest improvement is to instead fix\n",
    "the width of the key names to the length of the longest key, making\n",
    "it slightly more readable if all of the key names are very\n",
    "short or if there any keys longer than 15 characters. This comes at\n",
    "the expense of the readability of our `.pdbrc` which now has an almost\n",
    "incomprehensible `alias p_` line.\n",
    "\n",
    "```python\n",
    "alias p_ for k in sorted(%1.keys()): print(f\"%2{k.ljust(max(len(s) for s in %1.keys()))} = {%1[k]}\")\n",
    "```\n",
    "\n",
    "I'd encourage you to try out aliases for tasks that you find\n",
    "yourself doing repeatedly while debugging. I find myself looking\n",
    "for the pid of my Python process often enough that I also use\n",
    "\n",
    "```python\n",
    "alias pid import os; os.getpid()\n",
    "```\n",
    "\n",
    "The [inspect module](https://docs.python.org/3/library/inspect.html) could\n",
    "probably form the basis for a bunch of interesting aliases."
   ]
  }
 ],
 "metadata": {
  "kernelspec": {
   "display_name": "Python 3",
   "language": "python",
   "name": "python3"
  },
  "language_info": {
   "codemirror_mode": {
    "name": "ipython",
    "version": 3
   },
   "file_extension": ".py",
   "mimetype": "text/x-python",
   "name": "python",
   "nbconvert_exporter": "python",
   "pygments_lexer": "ipython3",
   "version": "3.7.5"
  }
 },
 "nbformat": 4,
 "nbformat_minor": 4
}
