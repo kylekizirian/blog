{
 "cells": [
  {
   "cell_type": "markdown",
   "metadata": {},
   "source": [
    "Python's\n",
    "[subprocess.Popen](https://docs.python.org/3/library/subprocess.html#popen-objects)\n",
    "class and [signal](https://docs.python.org/3/library/signal.html)\n",
    "library provide powerful ways to\n",
    "[communicate with](https://docs.python.org/3/library/subprocess.html#subprocess.Popen.communicate)\n",
    "and\n",
    "[send signals to](https://docs.python.org/3/library/subprocess.html#subprocess.Popen.send_signal)\n",
    "a running subprocess.\n",
    "\n",
    "We'll look at at using the\n",
    "[SIGSTOP and SIGCONT signals](https://manpages.debian.org/buster/manpages/signal.7.en.html#Standard_signals)\n",
    "to pause and resume the execution of a program. As an example,\n",
    "we'll launch another Python process that runs a `print_time` script.\n",
    "The `print_time` script takes two arguments, a time delta $n$ and a\n",
    "total time $t$. The script prints its process ID and the Unix time every\n",
    "$n$ seconds and completes after $t$ seconds.\n",
    "\n",
    "The `print_time` script looks like\n",
    "\n",
    "```python\n",
    "import os\n",
    "import sys\n",
    "import time\n",
    "\n",
    "if __name__ == \"__main__\":\n",
    "\n",
    "    sleep_time = float(sys.argv[-2])\n",
    "    run_time = float(sys.argv[-1])\n",
    "\n",
    "    end_time = time.time() + run_time\n",
    "\n",
    "    while time.time() < end_time:\n",
    "        print(f\"{os.getpid()}: {time.time()}\")\n",
    "        time.sleep(sleep_time)\n",
    "```\n",
    "\n",
    "Even though we're running other Python processes in this example, the\n",
    "concept of using signals applies to any program. The same script\n",
    "could've been implemented in any language or even with a mix of bash and\n",
    "Unix programs."
   ]
  },
  {
   "cell_type": "code",
   "execution_count": 1,
   "metadata": {},
   "outputs": [],
   "source": [
    "import signal\n",
    "from subprocess import Popen, PIPE\n",
    "import time"
   ]
  },
  {
   "cell_type": "markdown",
   "metadata": {},
   "source": [
    "A few notes about the `Popen` class which launches a running\n",
    "subprocess. The first argument is a list of strings containing the\n",
    "program to run and its arguments. This line\n",
    "\n",
    "```python\n",
    "Popen([\"python\", \"print_time.py\", \"1\" \"5\"])\n",
    "```\n",
    "\n",
    "Is equivalent to opening your terminal and running\n",
    "\n",
    "```bash\n",
    "python print_time.py 1 5\n",
    "```\n",
    "\n",
    "The subprocess will begin running as soon as a `Popen` object is\n",
    "constructed and the `Popen.wait()` method will wait for the subprocess\n",
    "to terminate.\n",
    "\n",
    "The `stdout` argument sets where the process's output will be\n",
    "written. By using `subprocess.PIPE`, it will be written to the\n",
    "`Popen.stdout` attribute which can be read like a file. The `encoding`\n",
    "argument sets `stdout` to be interpreted as a stream of text rather\n",
    "than a stream of bytes.\n",
    "\n",
    "In the example below, we'll run the `print_time` program for five seconds\n",
    "with the Unix time printed at one second intervals. Two seconds in, we'll\n",
    "use the `SIGSTOP` signal to pause the program's execution and then resume\n",
    "it two seconds later with the `SIGCONT` signal."
   ]
  },
  {
   "cell_type": "code",
   "execution_count": 2,
   "metadata": {},
   "outputs": [],
   "source": [
    "p = Popen([\"python\", \"print_time.py\", \"1\", \"5\"], stdout=PIPE, encoding=\"utf-8\")\n",
    "time.sleep(2)\n",
    "p.send_signal(signal.SIGSTOP)\n",
    "time.sleep(2)\n",
    "p.send_signal(signal.SIGCONT)\n",
    "p.wait();  # Semi-colon is so the output of p.wait() is not printed"
   ]
  },
  {
   "cell_type": "markdown",
   "metadata": {},
   "source": [
    "Note in the output below that the program runs for two seconds,\n",
    "pauses for a two second gap, then runs for two more seconds."
   ]
  },
  {
   "cell_type": "code",
   "execution_count": 3,
   "metadata": {},
   "outputs": [
    {
     "name": "stdout",
     "output_type": "stream",
     "text": [
      "85887: 1584317646.599296\n",
      "85887: 1584317647.6032739\n",
      "85887: 1584317650.5725708\n",
      "85887: 1584317651.574015\n"
     ]
    }
   ],
   "source": [
    "for line in p.stdout.readlines():\n",
    "    print(line.strip())"
   ]
  },
  {
   "cell_type": "markdown",
   "metadata": {},
   "source": [
    "For a more involved example, we'll launch three processes\n",
    "running `print_time` and stop all of them immediately. We'll then\n",
    "use `SIGSTOP` and `SIGCONT` to allow each of them to run one at a\n",
    "time in round-robin fashion until they've all exited. This functions\n",
    "like a time-slicing mechanism in which each program gets equal\n",
    "execution time and none of the programs run concurrently."
   ]
  },
  {
   "cell_type": "code",
   "execution_count": 4,
   "metadata": {},
   "outputs": [],
   "source": [
    "processes = [\n",
    "    Popen([\"python\", \"print_time.py\", \"1\", \"8\"], stdout=PIPE, encoding=\"utf-8\")\n",
    "    for _ in range(3)\n",
    "]\n",
    "for process in processes:\n",
    "    process.send_signal(signal.SIGSTOP)"
   ]
  },
  {
   "cell_type": "markdown",
   "metadata": {},
   "source": [
    "The `Popen.poll()` method returns `None` if a process is still\n",
    "running. We'll use this to check whether any of the processes\n",
    "are still running and, if so, continue to run each process\n",
    "one-by-one."
   ]
  },
  {
   "cell_type": "code",
   "execution_count": 5,
   "metadata": {},
   "outputs": [],
   "source": [
    "while any(process.poll() is None for process in processes):\n",
    "    for process in processes:\n",
    "        process.send_signal(signal.SIGCONT)\n",
    "        time.sleep(2)\n",
    "        process.send_signal(signal.SIGSTOP)"
   ]
  },
  {
   "cell_type": "markdown",
   "metadata": {},
   "source": [
    "To see how the processes ran in a non-overlapping fashion, we can\n",
    "combine the output of each process into one list and then sort\n",
    "the list by the printed Unix time value. This will reconstruct\n",
    "which process was running at each timestamp."
   ]
  },
  {
   "cell_type": "code",
   "execution_count": 6,
   "metadata": {},
   "outputs": [],
   "source": [
    "lines = [\n",
    "    line.strip()\n",
    "    for process in processes\n",
    "    for line in process.stdout.readlines()\n",
    "]\n",
    "lines.sort(key=lambda line: float(line.split()[-1]))"
   ]
  },
  {
   "cell_type": "markdown",
   "metadata": {},
   "source": [
    "In the output below, you can see each process run for two seconds before\n",
    "switching to a different process."
   ]
  },
  {
   "cell_type": "code",
   "execution_count": 7,
   "metadata": {},
   "outputs": [
    {
     "name": "stdout",
     "output_type": "stream",
     "text": [
      "85888: 1584317652.730904\n",
      "85888: 1584317653.731411\n",
      "85889: 1584317654.723969\n",
      "85889: 1584317655.7270458\n",
      "85890: 1584317656.732857\n",
      "85890: 1584317657.7348201\n",
      "85888: 1584317658.693002\n",
      "85888: 1584317659.693248\n",
      "85889: 1584317660.693377\n",
      "85889: 1584317661.698638\n",
      "85890: 1584317662.693693\n",
      "85890: 1584317663.694156\n",
      "85890: 1584317668.701111\n"
     ]
    }
   ],
   "source": [
    "print(\"\\n\".join(lines))"
   ]
  },
  {
   "cell_type": "markdown",
   "metadata": {},
   "source": [
    "## Parting thoughts\n",
    "\n",
    "The example above does, in a very rough way, what\n",
    "an [ARINC 653](https://en.wikipedia.org/wiki/ARINC_653)\n",
    "operating system does in partitioning applications by time.\n",
    "\n",
    "A fun exercise would be to write a program that takes a config file\n",
    "containing programs with a time-slice allocation and coordinates\n",
    "their execution. It would be interesting to come up with techniques\n",
    "for precise timing control and measuring how well the OS and Python\n",
    "interpreter are able to switch between the running programs.\n",
    "\n",
    "My idea for this came while watching\n",
    "[this command-line environment](https://missing.csail.mit.edu/2020/command-line/)\n",
    "lecture which does a great job giving an overview of signals and a\n",
    "number of other things. The entire\n",
    "[Missing Semester lecture series](https://missing.csail.mit.edu/) is\n",
    "really fantastic and something that I wish I'd taken a college course on. I\n",
    "found the lectures on\n",
    "[editors](https://missing.csail.mit.edu/2020/editors/),\n",
    "[data wrangling](https://missing.csail.mit.edu/2020/data-wrangling/),\n",
    "and [version control](https://missing.csail.mit.edu/2020/version-control/)\n",
    "to be particularly useful."
   ]
  }
 ],
 "metadata": {
  "kernelspec": {
   "display_name": "Python 3",
   "language": "python",
   "name": "python3"
  },
  "language_info": {
   "codemirror_mode": {
    "name": "ipython",
    "version": 3
   },
   "file_extension": ".py",
   "mimetype": "text/x-python",
   "name": "python",
   "nbconvert_exporter": "python",
   "pygments_lexer": "ipython3",
   "version": "3.7.5"
  }
 },
 "nbformat": 4,
 "nbformat_minor": 4
}
