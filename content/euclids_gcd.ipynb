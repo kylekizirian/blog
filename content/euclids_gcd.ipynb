{
 "cells": [
  {
   "cell_type": "markdown",
   "metadata": {},
   "source": [
    "Euclid's _Elements_ gives a wonderfully simple algorithm for finding\n",
    "the greatest common divisor of two numbers. The algorithm can\n",
    "be expressed in just two lines<sup>1</sup>."
   ]
  },
  {
   "cell_type": "code",
   "execution_count": 1,
   "metadata": {},
   "outputs": [],
   "source": [
    "def euclid_gcd(a: int, b: int) -> int:\n",
    "    return a if b == 0 else euclid_gcd(b, a % b)"
   ]
  },
  {
   "cell_type": "markdown",
   "metadata": {},
   "source": [
    "A few tests to show that this implementation is correct"
   ]
  },
  {
   "cell_type": "code",
   "execution_count": 2,
   "metadata": {},
   "outputs": [],
   "source": [
    "assert euclid_gcd(45, 75) == 15\n",
    "assert euclid_gcd(75, 45) == 15\n",
    "assert euclid_gcd(6, 18) == 6\n",
    "assert euclid_gcd(8, 11) == 1"
   ]
  },
  {
   "cell_type": "markdown",
   "metadata": {},
   "source": [
    "An even more powerful test is to use\n",
    "[Hypothesis](https://hypothesis.readthedocs.io/en/latest/) to generate\n",
    "inputs and compare them to Python's built-in\n",
    "[math.gcd](https://docs.python.org/3/library/math.html#math.gcd)"
   ]
  },
  {
   "cell_type": "code",
   "execution_count": 3,
   "metadata": {},
   "outputs": [],
   "source": [
    "import math\n",
    "from hypothesis import given, strategies as st\n",
    "\n",
    "@given(st.integers(min_value=0), st.integers(min_value=0))\n",
    "def test_euclid_gcd(a, b):\n",
    "    assert euclid_gcd(a, b) == math.gcd(a, b)"
   ]
  },
  {
   "cell_type": "markdown",
   "metadata": {},
   "source": [
    "## Performance Metrics\n",
    "\n",
    "The performance of this simple implementation can be compared to `math.gcd`\n",
    "by generating a large list of random integer tuples, choosing a tuple\n",
    "at random, and measuring the average execution time to find their\n",
    "greatest common divisor."
   ]
  },
  {
   "cell_type": "code",
   "execution_count": 4,
   "metadata": {},
   "outputs": [],
   "source": [
    "from random import choice, randint\n",
    "rand_tuples = [(randint(0, 10**6), randint(0, 10**6)) for _ in range(10**4)]"
   ]
  },
  {
   "cell_type": "code",
   "execution_count": 5,
   "metadata": {},
   "outputs": [
    {
     "name": "stdout",
     "output_type": "stream",
     "text": [
      "3.7 µs ± 305 ns per loop (mean ± std. dev. of 7 runs, 100000 loops each)\n"
     ]
    }
   ],
   "source": [
    "%%timeit\n",
    "euclid_gcd(*choice(rand_tuples))"
   ]
  },
  {
   "cell_type": "code",
   "execution_count": 6,
   "metadata": {},
   "outputs": [
    {
     "name": "stdout",
     "output_type": "stream",
     "text": [
      "1.41 µs ± 101 ns per loop (mean ± std. dev. of 7 runs, 1000000 loops each)\n"
     ]
    }
   ],
   "source": [
    "%%timeit\n",
    "math.gcd(*choice(rand_tuples))"
   ]
  },
  {
   "cell_type": "markdown",
   "metadata": {},
   "source": [
    "Unsurprisingly, the standard library's implementation is over 2x faster.\n",
    "I haven't dug in to see where it's optimizing, but surely it's at least\n",
    "partly due to being\n",
    "[implemented in C](https://github.com/python/cpython/blob/master/Modules/mathmodule.c)."
   ]
  },
  {
   "cell_type": "markdown",
   "metadata": {},
   "source": [
    "## Other Readings\n",
    "\n",
    "Excellent intuition and a proof is provided in\n",
    "[Algorithms](https://www.amazon.com/Algorithms-Sanjoy-Dasgupta/dp/0073523402)\n",
    "by Dasgupta, Papadimitriou, and Vazirani in Section 1.2.3 _Euclid's\n",
    "algorithm for greatest common divisor_.\n",
    "\n",
    "The\n",
    "[Wikipedia page on Euclid's algorithm](https://en.wikipedia.org/wiki/Euclidean_algorithm)\n",
    "goes into even greater depth and provides interesting history."
   ]
  },
  {
   "cell_type": "markdown",
   "metadata": {},
   "source": [
    "## Footnotes\n",
    "\n",
    "1. This can technically be expressed in one line with\n",
    "\n",
    "```python\n",
    "def euclid_gcd(a, b): return a if b == 0 else euclid_gcd(b, a%b)\n",
    "```\n",
    "\n",
    "But this is almost offensively concise."
   ]
  }
 ],
 "metadata": {
  "kernelspec": {
   "display_name": "Python 3",
   "language": "python",
   "name": "python3"
  },
  "language_info": {
   "codemirror_mode": {
    "name": "ipython",
    "version": 3
   },
   "file_extension": ".py",
   "mimetype": "text/x-python",
   "name": "python",
   "nbconvert_exporter": "python",
   "pygments_lexer": "ipython3",
   "version": "3.7.5"
  }
 },
 "nbformat": 4,
 "nbformat_minor": 4
}
