{
 "cells": [
  {
   "cell_type": "markdown",
   "metadata": {},
   "source": [
    "# An Implementation of Euler's Partition Function P(n) in Python\n",
    "\n",
    "This post looks at various ways to implement Euler's Partition Function P(n) (outlined [here on Wolfram's MathWorld](http://mathworld.wolfram.com/PartitionFunctionP.html) in Figure 11) in Python. The description of Euler's function here is taken entirely from the MathWorld reference above, this post will simply look at a Python implementation and how to test both the correctness and performance of our implementations.\n",
    "\n",
    "From MathWorld:\n",
    "\n",
    "P(n) gives the number of ways to sum positive integers to n. For example, 4 can be written as the following sums\n",
    "\n",
    "$4 = 4$\n",
    "\n",
    "$\\ \\ = 3 + 1$\n",
    "\n",
    "$\\ \\ = 2 + 2$\n",
    "\n",
    "$\\ \\ = 2 + 1 + 1$\n",
    "\n",
    "$\\ \\ = 1 + 1 + 1 +1$\n",
    "\n",
    "This gives 5 ways to sum positive integers to 4, thus P(4) = 5."
   ]
  },
  {
   "cell_type": "markdown",
   "metadata": {},
   "source": [
    "## Testing Our Partition Function for Correctness\n",
    "\n",
    "The Online Encyclopedia of Integer Sequences ([OEIS A000041](http://oeis.org/A000041)) gives P(n) for n=0...49 which we will use for testing our implementation of P(n).\n",
    "\n",
    "Our test function will take a function, P(n), which in turn takes a single integer argument. The test function will iterate over the list of known P(n) from OEIS above and assert that calling our function returns the correct value."
   ]
  },
  {
   "cell_type": "code",
   "execution_count": 1,
   "metadata": {},
   "outputs": [],
   "source": [
    "from typing import Callable\n",
    "\n",
    "def test_pn(pn_implementation: Callable[[int], int]) -> None:\n",
    "    pn_truths = [\n",
    "        1, 1, 2, 3, 5, 7, 11, 15, 22, 30, 42, 56, 77, 101, 135, 176, 231,\n",
    "        297, 385, 490, 627, 792, 1002, 1255, 1575, 1958, 2436, 3010,\n",
    "        3718, 4565, 5604, 6842, 8349, 10143, 12310, 14883, 17977,\n",
    "        21637, 26015, 31185, 37338, 44583, 53174, 63261, 75175,\n",
    "        89134, 105558, 124754, 147273, 173525\n",
    "    ]\n",
    "    for n, pn_truth in enumerate(pn_truths):\n",
    "        assert pn_implementation(n) == pn_truth, (\n",
    "            f\"Error: Implementation gave P({n}) == {pn_implementation(n)}. \"\n",
    "            f\"Correct P({n}) == {pn_truth}\"\n",
    "        )"
   ]
  },
  {
   "cell_type": "markdown",
   "metadata": {},
   "source": [
    "## Implementing P(n)\n",
    "\n",
    "Figure 11 in the [MathWorld reference on Partition Function P](http://mathworld.wolfram.com/PartitionFunctionP.html) gives P(n) as\n",
    "\n",
    "$P(n) = \\sum_{k=1}^{n} (-1)^{k+1}[P(n - \\frac{1}{2}k(3k-1))+P(n - \\frac{1}{2}k(3k+1))]$\n",
    "\n",
    "This recurrence equation is naturally expressed as a recursive function with a base case of P(0) = 1\n",
    "\n",
    "Let's look first at an implementation that most closely resembles the the function above"
   ]
  },
  {
   "cell_type": "code",
   "execution_count": 2,
   "metadata": {},
   "outputs": [],
   "source": [
    "def P(n: int) -> int:\n",
    "\n",
    "    if n == 0:\n",
    "        return 1\n",
    "\n",
    "    total = 0\n",
    "    for k in range(1, n+1):\n",
    "        total += pow(-1, k+1) * (P(n - k*(3*k-1)//2) + P(n - k*(3*k+1)//2))\n",
    "\n",
    "    return total"
   ]
  },
  {
   "cell_type": "markdown",
   "metadata": {},
   "source": [
    "This implementation, while simple, is awfully slow. Even our test suite to check all cases for n < 50 will not run in a reasonable amount of time. Instead, we will spot check our results with a few known P(n)"
   ]
  },
  {
   "cell_type": "code",
   "execution_count": 3,
   "metadata": {},
   "outputs": [],
   "source": [
    "assert P(0) == 1\n",
    "assert P(1) == 1\n",
    "assert P(5) == 7\n",
    "assert P(10) == 42"
   ]
  },
  {
   "cell_type": "markdown",
   "metadata": {},
   "source": [
    "To get a baseline for measuring our function's performance, we will use the Jupyter cell magic `%%time` to measure the execution time of P(30)"
   ]
  },
  {
   "cell_type": "code",
   "execution_count": 4,
   "metadata": {},
   "outputs": [
    {
     "name": "stdout",
     "output_type": "stream",
     "text": [
      "CPU times: user 40.3 s, sys: 301 ms, total: 40.6 s\n",
      "Wall time: 43.3 s\n"
     ]
    },
    {
     "data": {
      "text/plain": [
       "5604"
      ]
     },
     "execution_count": 4,
     "metadata": {},
     "output_type": "execute_result"
    }
   ],
   "source": [
    "%%time\n",
    "P(30)"
   ]
  },
  {
   "cell_type": "markdown",
   "metadata": {},
   "source": [
    "Our implementation of P(n), for even moderately large values of n, takes on the order of tens of seconds! To get an understanding of what is taking up so much of our function's execution time, we can profile it with the cell magic `%%prun`"
   ]
  },
  {
   "cell_type": "code",
   "execution_count": 5,
   "metadata": {},
   "outputs": [
    {
     "name": "stdout",
     "output_type": "stream",
     "text": [
      " "
     ]
    },
    {
     "data": {
      "text/plain": [
       "         77370568 function calls (25790192 primitive calls) in 56.673 seconds\n",
       "\n",
       "   Ordered by: internal time\n",
       "\n",
       "   ncalls  tottime  percall  cumtime  percall filename:lineno(function)\n",
       "51580377/1   45.201    0.000   56.673   56.673 <ipython-input-2-2bfb35d290f4>:1(P)\n",
       " 25790188   11.472    0.000   11.472    0.000 {built-in method builtins.pow}\n",
       "        1    0.000    0.000   56.673   56.673 {built-in method builtins.exec}\n",
       "        1    0.000    0.000   56.673   56.673 <string>:1(<module>)\n",
       "        1    0.000    0.000    0.000    0.000 {method 'disable' of '_lsprof.Profiler' objects}"
      ]
     },
     "metadata": {},
     "output_type": "display_data"
    }
   ],
   "source": [
    "%%prun\n",
    "P(30)"
   ]
  },
  {
   "cell_type": "markdown",
   "metadata": {},
   "source": [
    "As we can see, our function P(n) was called a whopping 51,580,377 times! A major reason for the slow computation time is that the same P(n) will be repeatedly calculated within the recursive calls. To resolve this, we can cache computed values of P(n) to avoid repeated calculations.\n",
    "\n",
    "To do this, we can create a class that generates a callable object which stores computed values of P(n) in a member variable."
   ]
  },
  {
   "cell_type": "code",
   "execution_count": 6,
   "metadata": {},
   "outputs": [],
   "source": [
    "class PWithCache:\n",
    "\n",
    "    def __init__(self):\n",
    "        self.computed_pn = {0: 1}\n",
    "\n",
    "    def __call__(self, n: int) -> int:\n",
    "\n",
    "        if n in self.computed_pn:\n",
    "            return self.computed_pn[n]\n",
    "\n",
    "        total = 0\n",
    "        for k in range(1, n+1):\n",
    "            # note: the call to self() here actually invokes self.__call__ (i.e. this function)\n",
    "            # so this function is also recursive, but with self.computed_pn stored between\n",
    "            # calls\n",
    "            total += pow(-1, k+1) * (self(n - k*(3*k-1)//2) + self(n - k*(3*k+1)//2))\n",
    "\n",
    "        self.computed_pn[n] = total\n",
    "\n",
    "        return total"
   ]
  },
  {
   "cell_type": "code",
   "execution_count": 7,
   "metadata": {},
   "outputs": [],
   "source": [
    "P = PWithCache()"
   ]
  },
  {
   "cell_type": "markdown",
   "metadata": {},
   "source": [
    "Our first call begins without any P(n) computed, but the caching between recursive calls will immediately result in a dramatic speed-up, with P(30) now taking on the order of milliseconds."
   ]
  },
  {
   "cell_type": "code",
   "execution_count": 8,
   "metadata": {},
   "outputs": [
    {
     "name": "stdout",
     "output_type": "stream",
     "text": [
      "CPU times: user 1.86 ms, sys: 1.31 ms, total: 3.17 ms\n",
      "Wall time: 9.15 ms\n"
     ]
    }
   ],
   "source": [
    "%%time\n",
    "assert P(30) == 5604"
   ]
  },
  {
   "cell_type": "markdown",
   "metadata": {},
   "source": [
    "Of course, on subsequent calls, P(30) has already been computed which means the call will simply result in a dictionary look-up which happens on the order of hundreds of nanoseconds."
   ]
  },
  {
   "cell_type": "code",
   "execution_count": 9,
   "metadata": {},
   "outputs": [
    {
     "name": "stdout",
     "output_type": "stream",
     "text": [
      "328 ns ± 12.6 ns per loop (mean ± std. dev. of 7 runs, 1000000 loops each)\n"
     ]
    }
   ],
   "source": [
    "%%timeit\n",
    "assert P(30) == 5604"
   ]
  },
  {
   "cell_type": "markdown",
   "metadata": {},
   "source": [
    "Finally, we'll run our implementation over our test suite"
   ]
  },
  {
   "cell_type": "code",
   "execution_count": 10,
   "metadata": {},
   "outputs": [],
   "source": [
    "test_pn(P)"
   ]
  },
  {
   "cell_type": "markdown",
   "metadata": {},
   "source": [
    "## Additional Speed-Ups\n",
    "\n",
    "Let us profile P(n) once again for n = 1000 to characterize its performance."
   ]
  },
  {
   "cell_type": "code",
   "execution_count": 11,
   "metadata": {},
   "outputs": [
    {
     "name": "stdout",
     "output_type": "stream",
     "text": [
      "1.24 s ± 111 ms per loop (mean ± std. dev. of 7 runs, 1 loop each)\n"
     ]
    }
   ],
   "source": [
    "%%timeit\n",
    "P = PWithCache()\n",
    "P(1000)"
   ]
  },
  {
   "cell_type": "code",
   "execution_count": 12,
   "metadata": {},
   "outputs": [
    {
     "name": "stdout",
     "output_type": "stream",
     "text": [
      " "
     ]
    },
    {
     "data": {
      "text/plain": [
       "         1501504 function calls (500504 primitive calls) in 1.661 seconds\n",
       "\n",
       "   Ordered by: internal time\n",
       "\n",
       "   ncalls  tottime  percall  cumtime  percall filename:lineno(function)\n",
       "1001001/1    1.385    0.000    1.659    1.659 <ipython-input-6-38e9931c38ea>:6(__call__)\n",
       "   500500    0.274    0.000    0.274    0.000 {built-in method builtins.pow}\n",
       "        1    0.002    0.002    1.661    1.661 {built-in method builtins.exec}\n",
       "        1    0.000    0.000    1.659    1.659 <string>:1(<module>)\n",
       "        1    0.000    0.000    0.000    0.000 {method 'disable' of '_lsprof.Profiler' objects}"
      ]
     },
     "metadata": {},
     "output_type": "display_data"
    }
   ],
   "source": [
    "P = PWithCache()\n",
    "%prun P(1000)"
   ]
  },
  {
   "cell_type": "markdown",
   "metadata": {},
   "source": [
    "One interesting thing we will notice right away is that P(n) is called 1,001,001 times while pow() is called only 500,500 times even though pow() should be called n times for each call to P(n). This is because the the terms $n - \\frac{1}{2}k(3k-1)$ and $n - \\frac{1}{2}k(3k+1)$ frequently evaluate to negative numbers, in which case the summation loop is bypassed and 0 is returned.\n",
    "\n",
    "Because function calls in Python are expensive, it would be better to simply replace the term with 0 rather than call P(n) with n < 0. The implementation below first calculates the terms $n - \\frac{1}{2}k(3k-1)$ and $n - \\frac{1}{2}k(3k+1)$ and replaces the respective P(n) terms with 0 if they are negative."
   ]
  },
  {
   "cell_type": "code",
   "execution_count": 13,
   "metadata": {},
   "outputs": [],
   "source": [
    "class PWithCache:\n",
    "\n",
    "    def __init__(self):\n",
    "        self.computed_pn = {0: 1}\n",
    "\n",
    "    def __call__(self, n: int) -> int:\n",
    "\n",
    "        if n in self.computed_pn:\n",
    "            return self.computed_pn[n]\n",
    "\n",
    "        total = 0\n",
    "        for k in range(1, n+1):\n",
    "            minus_one_term = n - k*(3*k-1)//2\n",
    "            plus_one_term = n - k*(3*k+1)//2\n",
    "            first_term = 0 if minus_one_term < 0 else self(minus_one_term)\n",
    "            second_term = 0 if plus_one_term < 0 else self(plus_one_term)\n",
    "            total += pow(-1, k+1) * (first_term + second_term)\n",
    "\n",
    "        self.computed_pn[n] = total\n",
    "\n",
    "        return total\n",
    "\n",
    "P = PWithCache()\n",
    "test_pn(P)"
   ]
  },
  {
   "cell_type": "code",
   "execution_count": 14,
   "metadata": {},
   "outputs": [
    {
     "name": "stdout",
     "output_type": "stream",
     "text": [
      "602 ms ± 45.9 ms per loop (mean ± std. dev. of 7 runs, 1 loop each)\n"
     ]
    }
   ],
   "source": [
    "%%timeit\n",
    "P = PWithCache()\n",
    "P(1000)"
   ]
  },
  {
   "cell_type": "code",
   "execution_count": 15,
   "metadata": {},
   "outputs": [
    {
     "name": "stdout",
     "output_type": "stream",
     "text": [
      " "
     ]
    },
    {
     "data": {
      "text/plain": [
       "         533979 function calls (500504 primitive calls) in 0.787 seconds\n",
       "\n",
       "   Ordered by: internal time\n",
       "\n",
       "   ncalls  tottime  percall  cumtime  percall filename:lineno(function)\n",
       "  33476/1    0.528    0.000    0.787    0.787 <ipython-input-13-14388ae67b71>:6(__call__)\n",
       "   500500    0.259    0.000    0.259    0.000 {built-in method builtins.pow}\n",
       "        1    0.000    0.000    0.787    0.787 {built-in method builtins.exec}\n",
       "        1    0.000    0.000    0.787    0.787 <string>:1(<module>)\n",
       "        1    0.000    0.000    0.000    0.000 {method 'disable' of '_lsprof.Profiler' objects}"
      ]
     },
     "metadata": {},
     "output_type": "display_data"
    }
   ],
   "source": [
    "P = PWithCache()\n",
    "%prun P(1000)"
   ]
  },
  {
   "cell_type": "markdown",
   "metadata": {},
   "source": [
    "We can see that by cleverly avoiding unnecessary calls to P(n), we have decreased the number of times it's called from 1,001,001 to a mere 33,476 times resulting in a roughly 2x speed-up!"
   ]
  },
  {
   "cell_type": "markdown",
   "metadata": {},
   "source": [
    "## Examining Calls to pow()\n",
    "\n",
    "From our profiling metrics above, we see that our calls to pow() are now taking up nearly half of our execution time. Re-examining our function, we can take a second look at the term $(-1)^{k+1}$\n",
    "\n",
    "$P(n) = \\sum_{k=1}^{n} (-1)^{k+1}[P(n - \\frac{1}{2}k(3k-1))+P(n - \\frac{1}{2}k(3k+1))]$\n",
    "\n",
    "Careful consideration will show us that the purpose of the term $(-1)^{k+1}$ is that we will subtract the intermediate result when k is even and add the intermediate result when k is odd. That is, $(-1)^{k+1}$ evaluates to -1 when k is even and to +1 when k is odd.\n",
    "\n",
    "If we simply want to know whether k is odd or even in order to add or subtract our intermediate result, we can do this more quickly with the modulus operator than by computing $(-1)^{k+1}$. Let us analyze this by taking a random positive integer under 1000 and comparing the time to calculate $pow(-1,\\ random\\_num)$ and $random\\_num\\ \\%\\ 2$."
   ]
  },
  {
   "cell_type": "code",
   "execution_count": 16,
   "metadata": {},
   "outputs": [],
   "source": [
    "from random import randint\n",
    "random_num = randint(1, 1000)"
   ]
  },
  {
   "cell_type": "code",
   "execution_count": 17,
   "metadata": {},
   "outputs": [
    {
     "name": "stdout",
     "output_type": "stream",
     "text": [
      "427 ns ± 22 ns per loop (mean ± std. dev. of 7 runs, 1000000 loops each)\n"
     ]
    }
   ],
   "source": [
    "%%timeit\n",
    "pow(-1, random_num)"
   ]
  },
  {
   "cell_type": "code",
   "execution_count": 18,
   "metadata": {},
   "outputs": [
    {
     "name": "stdout",
     "output_type": "stream",
     "text": [
      "66.1 ns ± 5.73 ns per loop (mean ± std. dev. of 7 runs, 10000000 loops each)\n"
     ]
    }
   ],
   "source": [
    "%%timeit\n",
    "random_num % 2"
   ]
  },
  {
   "cell_type": "markdown",
   "metadata": {},
   "source": [
    "As we can see, $random\\_num\\ \\%\\ 2$ is roughly an order of magnitude faster than $pow(-1,\\ random\\_num)$. Let us go back and replace the term $(-1)^{k+1}$ with the use of a modulus operator to govern whether we add or subtract the intermediate result."
   ]
  },
  {
   "cell_type": "code",
   "execution_count": 19,
   "metadata": {},
   "outputs": [],
   "source": [
    "class PWithCache:\n",
    "\n",
    "    def __init__(self):\n",
    "        self.computed_pn = {0: 1}\n",
    "\n",
    "    def __call__(self, n: int) -> int:\n",
    "\n",
    "        if n in self.computed_pn:\n",
    "            return self.computed_pn[n]\n",
    "\n",
    "        total = 0\n",
    "        for k in range(1, n+1):\n",
    "            minus_one_term = n - k*(3*k-1)//2\n",
    "            plus_one_term = n - k*(3*k+1)//2\n",
    "            first_term = 0 if minus_one_term < 0 else self(minus_one_term)\n",
    "            second_term = 0 if plus_one_term < 0 else self(plus_one_term)\n",
    "            if k % 2:\n",
    "                total += first_term + second_term\n",
    "            else:\n",
    "                total -= first_term + second_term\n",
    "\n",
    "        self.computed_pn[n] = total\n",
    "\n",
    "        return total\n",
    "\n",
    "P = PWithCache()\n",
    "test_pn(P)"
   ]
  },
  {
   "cell_type": "code",
   "execution_count": 20,
   "metadata": {},
   "outputs": [
    {
     "name": "stdout",
     "output_type": "stream",
     "text": [
      "375 ms ± 76.5 ms per loop (mean ± std. dev. of 7 runs, 1 loop each)\n"
     ]
    }
   ],
   "source": [
    "%%timeit\n",
    "P = PWithCache()\n",
    "P(1000)"
   ]
  },
  {
   "cell_type": "code",
   "execution_count": 21,
   "metadata": {},
   "outputs": [
    {
     "name": "stdout",
     "output_type": "stream",
     "text": [
      " "
     ]
    },
    {
     "data": {
      "text/plain": [
       "         33479 function calls (4 primitive calls) in 0.382 seconds\n",
       "\n",
       "   Ordered by: internal time\n",
       "\n",
       "   ncalls  tottime  percall  cumtime  percall filename:lineno(function)\n",
       "  33476/1    0.382    0.000    0.382    0.382 <ipython-input-19-78a7394da91f>:6(__call__)\n",
       "        1    0.000    0.000    0.382    0.382 {built-in method builtins.exec}\n",
       "        1    0.000    0.000    0.382    0.382 <string>:1(<module>)\n",
       "        1    0.000    0.000    0.000    0.000 {method 'disable' of '_lsprof.Profiler' objects}"
      ]
     },
     "metadata": {},
     "output_type": "display_data"
    }
   ],
   "source": [
    "P = PWithCache()\n",
    "%prun P(1000)"
   ]
  },
  {
   "cell_type": "markdown",
   "metadata": {},
   "source": [
    "Once again, we see a nearly 2x speed-up by eliminating the 500,500 function calls to pow(), with all remaining calls now being the recursive calls to P(n)."
   ]
  },
  {
   "cell_type": "markdown",
   "metadata": {},
   "source": [
    "## An Analysis of Results\n",
    "\n",
    "Our final implementatation has grown significantly in lines of code and no longer closely resembles the mathematical form of our function. We've seen signficant speed-ups but at a cost of additional complexity and lines of code. The purpose of this post is to look at how profiling can help us to understand (and potentially improve upon) the performance of our code. Whether optimization is a worthwhile endeavor is situationally dependent and the old adage that \"premature optimization is the root of all evil\" is always worth keeping in mind."
   ]
  }
 ],
 "metadata": {
  "kernelspec": {
   "display_name": "Python 3",
   "language": "python",
   "name": "python3"
  },
  "language_info": {
   "codemirror_mode": {
    "name": "ipython",
    "version": 3
   },
   "file_extension": ".py",
   "mimetype": "text/x-python",
   "name": "python",
   "nbconvert_exporter": "python",
   "pygments_lexer": "ipython3",
   "version": "3.7.5"
  }
 },
 "nbformat": 4,
 "nbformat_minor": 4
}
